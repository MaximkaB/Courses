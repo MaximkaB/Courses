{
  "cells": [
    {
      "cell_type": "code",
      "source": [
        "!pip install implicit"
      ],
      "metadata": {
        "id": "5wTc3I1XniGF"
      },
      "id": "5wTc3I1XniGF",
      "execution_count": null,
      "outputs": []
    },
    {
      "cell_type": "code",
      "source": [
        "import numpy as np\n",
        "import pandas as pd\n",
        "import os\n",
        "import implicit\n",
        "from scipy.sparse import csr_matrix\n",
        "import scipy.sparse as sparse\n",
        "import scipy\n",
        "import matplotlib.pyplot as plt\n",
        "from tqdm import tqdm"
      ],
      "metadata": {
        "id": "K5P61lPa1hut"
      },
      "id": "K5P61lPa1hut",
      "execution_count": 84,
      "outputs": []
    },
    {
      "cell_type": "code",
      "source": [
        "USER_COL = 'user_id'\n",
        "ITEM_COL = 'item_id'\n",
        "EXP_RATING_COL = 'rating'\n",
        "IMP_RATING_COL = 'progress'\n",
        "TIMESTAMP = 'start_date'"
      ],
      "metadata": {
        "id": "nvTTJaM04zyH"
      },
      "id": "nvTTJaM04zyH",
      "execution_count": 85,
      "outputs": []
    },
    {
      "cell_type": "markdown",
      "id": "efea94ba",
      "metadata": {
        "id": "efea94ba"
      },
      "source": [
        "# Датасет"
      ]
    },
    {
      "cell_type": "markdown",
      "id": "9bbb36c1",
      "metadata": {
        "id": "9bbb36c1"
      },
      "source": [
        "Будем использовать датасет [MTS Library](https://www.kaggle.com/sharthz23/mts-library), содержащий данные об истории чтения книг пользователями МТС Библиотеки."
      ]
    },
    {
      "cell_type": "markdown",
      "id": "d98dab69",
      "metadata": {
        "id": "d98dab69"
      },
      "source": [
        "### Предобработка"
      ]
    },
    {
      "cell_type": "code",
      "execution_count": 86,
      "id": "228f4ce3",
      "metadata": {
        "id": "228f4ce3",
        "colab": {
          "base_uri": "https://localhost:8080/",
          "height": 206
        },
        "outputId": "a31367bd-306c-4202-c921-13c1605ac080"
      },
      "outputs": [
        {
          "output_type": "execute_result",
          "data": {
            "text/plain": [
              "   user_id  item_id  progress  rating  start_date\n",
              "0   126706    14433        80     NaN  2018-01-01\n",
              "1   127290   140952        58     NaN  2018-01-01\n",
              "2    66991   198453        89     NaN  2018-01-01\n",
              "3    46791    83486        23     5.0  2018-01-01\n",
              "4    79313   188770        88     5.0  2018-01-01"
            ],
            "text/html": [
              "\n",
              "  <div id=\"df-8cfcc625-d505-46d1-b6b1-cf049c520ec4\" class=\"colab-df-container\">\n",
              "    <div>\n",
              "<style scoped>\n",
              "    .dataframe tbody tr th:only-of-type {\n",
              "        vertical-align: middle;\n",
              "    }\n",
              "\n",
              "    .dataframe tbody tr th {\n",
              "        vertical-align: top;\n",
              "    }\n",
              "\n",
              "    .dataframe thead th {\n",
              "        text-align: right;\n",
              "    }\n",
              "</style>\n",
              "<table border=\"1\" class=\"dataframe\">\n",
              "  <thead>\n",
              "    <tr style=\"text-align: right;\">\n",
              "      <th></th>\n",
              "      <th>user_id</th>\n",
              "      <th>item_id</th>\n",
              "      <th>progress</th>\n",
              "      <th>rating</th>\n",
              "      <th>start_date</th>\n",
              "    </tr>\n",
              "  </thead>\n",
              "  <tbody>\n",
              "    <tr>\n",
              "      <th>0</th>\n",
              "      <td>126706</td>\n",
              "      <td>14433</td>\n",
              "      <td>80</td>\n",
              "      <td>NaN</td>\n",
              "      <td>2018-01-01</td>\n",
              "    </tr>\n",
              "    <tr>\n",
              "      <th>1</th>\n",
              "      <td>127290</td>\n",
              "      <td>140952</td>\n",
              "      <td>58</td>\n",
              "      <td>NaN</td>\n",
              "      <td>2018-01-01</td>\n",
              "    </tr>\n",
              "    <tr>\n",
              "      <th>2</th>\n",
              "      <td>66991</td>\n",
              "      <td>198453</td>\n",
              "      <td>89</td>\n",
              "      <td>NaN</td>\n",
              "      <td>2018-01-01</td>\n",
              "    </tr>\n",
              "    <tr>\n",
              "      <th>3</th>\n",
              "      <td>46791</td>\n",
              "      <td>83486</td>\n",
              "      <td>23</td>\n",
              "      <td>5.0</td>\n",
              "      <td>2018-01-01</td>\n",
              "    </tr>\n",
              "    <tr>\n",
              "      <th>4</th>\n",
              "      <td>79313</td>\n",
              "      <td>188770</td>\n",
              "      <td>88</td>\n",
              "      <td>5.0</td>\n",
              "      <td>2018-01-01</td>\n",
              "    </tr>\n",
              "  </tbody>\n",
              "</table>\n",
              "</div>\n",
              "    <div class=\"colab-df-buttons\">\n",
              "\n",
              "  <div class=\"colab-df-container\">\n",
              "    <button class=\"colab-df-convert\" onclick=\"convertToInteractive('df-8cfcc625-d505-46d1-b6b1-cf049c520ec4')\"\n",
              "            title=\"Convert this dataframe to an interactive table.\"\n",
              "            style=\"display:none;\">\n",
              "\n",
              "  <svg xmlns=\"http://www.w3.org/2000/svg\" height=\"24px\" viewBox=\"0 -960 960 960\">\n",
              "    <path d=\"M120-120v-720h720v720H120Zm60-500h600v-160H180v160Zm220 220h160v-160H400v160Zm0 220h160v-160H400v160ZM180-400h160v-160H180v160Zm440 0h160v-160H620v160ZM180-180h160v-160H180v160Zm440 0h160v-160H620v160Z\"/>\n",
              "  </svg>\n",
              "    </button>\n",
              "\n",
              "  <style>\n",
              "    .colab-df-container {\n",
              "      display:flex;\n",
              "      gap: 12px;\n",
              "    }\n",
              "\n",
              "    .colab-df-convert {\n",
              "      background-color: #E8F0FE;\n",
              "      border: none;\n",
              "      border-radius: 50%;\n",
              "      cursor: pointer;\n",
              "      display: none;\n",
              "      fill: #1967D2;\n",
              "      height: 32px;\n",
              "      padding: 0 0 0 0;\n",
              "      width: 32px;\n",
              "    }\n",
              "\n",
              "    .colab-df-convert:hover {\n",
              "      background-color: #E2EBFA;\n",
              "      box-shadow: 0px 1px 2px rgba(60, 64, 67, 0.3), 0px 1px 3px 1px rgba(60, 64, 67, 0.15);\n",
              "      fill: #174EA6;\n",
              "    }\n",
              "\n",
              "    .colab-df-buttons div {\n",
              "      margin-bottom: 4px;\n",
              "    }\n",
              "\n",
              "    [theme=dark] .colab-df-convert {\n",
              "      background-color: #3B4455;\n",
              "      fill: #D2E3FC;\n",
              "    }\n",
              "\n",
              "    [theme=dark] .colab-df-convert:hover {\n",
              "      background-color: #434B5C;\n",
              "      box-shadow: 0px 1px 3px 1px rgba(0, 0, 0, 0.15);\n",
              "      filter: drop-shadow(0px 1px 2px rgba(0, 0, 0, 0.3));\n",
              "      fill: #FFFFFF;\n",
              "    }\n",
              "  </style>\n",
              "\n",
              "    <script>\n",
              "      const buttonEl =\n",
              "        document.querySelector('#df-8cfcc625-d505-46d1-b6b1-cf049c520ec4 button.colab-df-convert');\n",
              "      buttonEl.style.display =\n",
              "        google.colab.kernel.accessAllowed ? 'block' : 'none';\n",
              "\n",
              "      async function convertToInteractive(key) {\n",
              "        const element = document.querySelector('#df-8cfcc625-d505-46d1-b6b1-cf049c520ec4');\n",
              "        const dataTable =\n",
              "          await google.colab.kernel.invokeFunction('convertToInteractive',\n",
              "                                                    [key], {});\n",
              "        if (!dataTable) return;\n",
              "\n",
              "        const docLinkHtml = 'Like what you see? Visit the ' +\n",
              "          '<a target=\"_blank\" href=https://colab.research.google.com/notebooks/data_table.ipynb>data table notebook</a>'\n",
              "          + ' to learn more about interactive tables.';\n",
              "        element.innerHTML = '';\n",
              "        dataTable['output_type'] = 'display_data';\n",
              "        await google.colab.output.renderOutput(dataTable, element);\n",
              "        const docLink = document.createElement('div');\n",
              "        docLink.innerHTML = docLinkHtml;\n",
              "        element.appendChild(docLink);\n",
              "      }\n",
              "    </script>\n",
              "  </div>\n",
              "\n",
              "\n",
              "<div id=\"df-4827741f-4dcb-4fcf-9321-0e3cbd7bfcd3\">\n",
              "  <button class=\"colab-df-quickchart\" onclick=\"quickchart('df-4827741f-4dcb-4fcf-9321-0e3cbd7bfcd3')\"\n",
              "            title=\"Suggest charts\"\n",
              "            style=\"display:none;\">\n",
              "\n",
              "<svg xmlns=\"http://www.w3.org/2000/svg\" height=\"24px\"viewBox=\"0 0 24 24\"\n",
              "     width=\"24px\">\n",
              "    <g>\n",
              "        <path d=\"M19 3H5c-1.1 0-2 .9-2 2v14c0 1.1.9 2 2 2h14c1.1 0 2-.9 2-2V5c0-1.1-.9-2-2-2zM9 17H7v-7h2v7zm4 0h-2V7h2v10zm4 0h-2v-4h2v4z\"/>\n",
              "    </g>\n",
              "</svg>\n",
              "  </button>\n",
              "\n",
              "<style>\n",
              "  .colab-df-quickchart {\n",
              "      --bg-color: #E8F0FE;\n",
              "      --fill-color: #1967D2;\n",
              "      --hover-bg-color: #E2EBFA;\n",
              "      --hover-fill-color: #174EA6;\n",
              "      --disabled-fill-color: #AAA;\n",
              "      --disabled-bg-color: #DDD;\n",
              "  }\n",
              "\n",
              "  [theme=dark] .colab-df-quickchart {\n",
              "      --bg-color: #3B4455;\n",
              "      --fill-color: #D2E3FC;\n",
              "      --hover-bg-color: #434B5C;\n",
              "      --hover-fill-color: #FFFFFF;\n",
              "      --disabled-bg-color: #3B4455;\n",
              "      --disabled-fill-color: #666;\n",
              "  }\n",
              "\n",
              "  .colab-df-quickchart {\n",
              "    background-color: var(--bg-color);\n",
              "    border: none;\n",
              "    border-radius: 50%;\n",
              "    cursor: pointer;\n",
              "    display: none;\n",
              "    fill: var(--fill-color);\n",
              "    height: 32px;\n",
              "    padding: 0;\n",
              "    width: 32px;\n",
              "  }\n",
              "\n",
              "  .colab-df-quickchart:hover {\n",
              "    background-color: var(--hover-bg-color);\n",
              "    box-shadow: 0 1px 2px rgba(60, 64, 67, 0.3), 0 1px 3px 1px rgba(60, 64, 67, 0.15);\n",
              "    fill: var(--button-hover-fill-color);\n",
              "  }\n",
              "\n",
              "  .colab-df-quickchart-complete:disabled,\n",
              "  .colab-df-quickchart-complete:disabled:hover {\n",
              "    background-color: var(--disabled-bg-color);\n",
              "    fill: var(--disabled-fill-color);\n",
              "    box-shadow: none;\n",
              "  }\n",
              "\n",
              "  .colab-df-spinner {\n",
              "    border: 2px solid var(--fill-color);\n",
              "    border-color: transparent;\n",
              "    border-bottom-color: var(--fill-color);\n",
              "    animation:\n",
              "      spin 1s steps(1) infinite;\n",
              "  }\n",
              "\n",
              "  @keyframes spin {\n",
              "    0% {\n",
              "      border-color: transparent;\n",
              "      border-bottom-color: var(--fill-color);\n",
              "      border-left-color: var(--fill-color);\n",
              "    }\n",
              "    20% {\n",
              "      border-color: transparent;\n",
              "      border-left-color: var(--fill-color);\n",
              "      border-top-color: var(--fill-color);\n",
              "    }\n",
              "    30% {\n",
              "      border-color: transparent;\n",
              "      border-left-color: var(--fill-color);\n",
              "      border-top-color: var(--fill-color);\n",
              "      border-right-color: var(--fill-color);\n",
              "    }\n",
              "    40% {\n",
              "      border-color: transparent;\n",
              "      border-right-color: var(--fill-color);\n",
              "      border-top-color: var(--fill-color);\n",
              "    }\n",
              "    60% {\n",
              "      border-color: transparent;\n",
              "      border-right-color: var(--fill-color);\n",
              "    }\n",
              "    80% {\n",
              "      border-color: transparent;\n",
              "      border-right-color: var(--fill-color);\n",
              "      border-bottom-color: var(--fill-color);\n",
              "    }\n",
              "    90% {\n",
              "      border-color: transparent;\n",
              "      border-bottom-color: var(--fill-color);\n",
              "    }\n",
              "  }\n",
              "</style>\n",
              "\n",
              "  <script>\n",
              "    async function quickchart(key) {\n",
              "      const quickchartButtonEl =\n",
              "        document.querySelector('#' + key + ' button');\n",
              "      quickchartButtonEl.disabled = true;  // To prevent multiple clicks.\n",
              "      quickchartButtonEl.classList.add('colab-df-spinner');\n",
              "      try {\n",
              "        const charts = await google.colab.kernel.invokeFunction(\n",
              "            'suggestCharts', [key], {});\n",
              "      } catch (error) {\n",
              "        console.error('Error during call to suggestCharts:', error);\n",
              "      }\n",
              "      quickchartButtonEl.classList.remove('colab-df-spinner');\n",
              "      quickchartButtonEl.classList.add('colab-df-quickchart-complete');\n",
              "    }\n",
              "    (() => {\n",
              "      let quickchartButtonEl =\n",
              "        document.querySelector('#df-4827741f-4dcb-4fcf-9321-0e3cbd7bfcd3 button');\n",
              "      quickchartButtonEl.style.display =\n",
              "        google.colab.kernel.accessAllowed ? 'block' : 'none';\n",
              "    })();\n",
              "  </script>\n",
              "</div>\n",
              "    </div>\n",
              "  </div>\n"
            ],
            "application/vnd.google.colaboratory.intrinsic+json": {
              "type": "dataframe",
              "variable_name": "df"
            }
          },
          "metadata": {},
          "execution_count": 86
        }
      ],
      "source": [
        "df = pd.read_csv('mts_lib.csv')\n",
        "df.head()"
      ]
    },
    {
      "cell_type": "code",
      "execution_count": 87,
      "id": "a9239191",
      "metadata": {
        "id": "a9239191"
      },
      "outputs": [],
      "source": [
        "# конвертируем в дату\n",
        "df.loc[:, 'start_date'] = pd.to_datetime(df['start_date'], format=\"%Y-%m-%d\")\n",
        "# удаляем дубликаты, оставляя последний по времени\n",
        "df = df.sort_values('start_date').drop_duplicates(subset=['user_id', 'item_id'], keep='last')"
      ]
    },
    {
      "cell_type": "markdown",
      "id": "3e8ee1e6",
      "metadata": {
        "id": "3e8ee1e6"
      },
      "source": [
        "### Данные"
      ]
    },
    {
      "cell_type": "code",
      "execution_count": 88,
      "id": "1867acd5",
      "metadata": {
        "id": "1867acd5"
      },
      "outputs": [],
      "source": [
        "def get_data_info(data, user_id='user_id', item_id='item_id'):\n",
        "    print(f'Размер датасета = {data.shape[0]}, \\nколичество пользователей = {data[user_id].nunique()}, \\nколичество объектов = {data[item_id].nunique()}')"
      ]
    },
    {
      "cell_type": "code",
      "execution_count": 89,
      "id": "c3286062",
      "metadata": {
        "colab": {
          "base_uri": "https://localhost:8080/"
        },
        "id": "c3286062",
        "outputId": "dd76032c-3ef7-4ccc-a611-9310e5faf229"
      },
      "outputs": [
        {
          "output_type": "stream",
          "name": "stdout",
          "text": [
            "Размер датасета = 1532998, \n",
            "количество пользователей = 151600, \n",
            "количество объектов = 59599\n"
          ]
        }
      ],
      "source": [
        "get_data_info(df)"
      ]
    },
    {
      "cell_type": "code",
      "execution_count": 90,
      "id": "e2ff635b",
      "metadata": {
        "colab": {
          "base_uri": "https://localhost:8080/",
          "height": 35
        },
        "id": "e2ff635b",
        "outputId": "dbaccb97-c55a-4d1c-c7f5-ae6970cf05e7"
      },
      "outputs": [
        {
          "output_type": "execute_result",
          "data": {
            "text/plain": [
              "'Количество рейтингов = 285337, что сильно меньше, чем количество данных о прогрессе чтения (1532998)'"
            ],
            "application/vnd.google.colaboratory.intrinsic+json": {
              "type": "string"
            }
          },
          "metadata": {},
          "execution_count": 90
        }
      ],
      "source": [
        "f\"Количество рейтингов = {(~df['rating'].isna()).sum()}, что сильно меньше, чем количество данных о прогрессе чтения ({(~df['progress'].isna()).sum()})\""
      ]
    },
    {
      "cell_type": "markdown",
      "id": "9a766a35",
      "metadata": {
        "id": "9a766a35"
      },
      "source": [
        "## Особенности данных в задаче рекомендаций\n",
        "- всегда есть id пользователей/сессий и объектов\n",
        "- есть timestamp (знаем об изменениях предпочтений пользователей во времени)\n",
        "- часто есть оценка релевантности объектов для пользователей"
      ]
    },
    {
      "cell_type": "code",
      "source": [
        "df['progress'].min(), df['progress'].max(), df['rating'].min(), df['rating'].max()"
      ],
      "metadata": {
        "colab": {
          "base_uri": "https://localhost:8080/"
        },
        "id": "ChVj1oquaGuL",
        "outputId": "44315c9c-75ff-4eea-9e21-c2afe640cd76"
      },
      "id": "ChVj1oquaGuL",
      "execution_count": 91,
      "outputs": [
        {
          "output_type": "execute_result",
          "data": {
            "text/plain": [
              "(0, 100, 1.0, 5.0)"
            ]
          },
          "metadata": {},
          "execution_count": 91
        }
      ]
    },
    {
      "cell_type": "markdown",
      "id": "5e9b14ae",
      "metadata": {
        "id": "5e9b14ae"
      },
      "source": [
        "## Типы feedback\n",
        "В нашем датасете есть как implicit (progress - процент прочтения книги), так и explicit feedback (rating - оценка, которую пользователь поставил).\n",
        "Если пользователь поставил оценку, мы можем быть сильно уверены в том, насколько ему нравится книга. Но факт прочтения какой-то доли контента — тоже важный сигнал, и этой информации гораздо больше.\n",
        "\n",
        "**Explicit**\n",
        "- мало, иногда недоступен\n",
        "- явно отражает предпочтения пользователя\n",
        "\n",
        "**Implicit**\n",
        "- много\n",
        "- разнородный\n",
        "- часто не содержит негативного опыта/его надо извлекать на основе правил\n",
        "- косвенно показывает предпочтения пользователей"
      ]
    },
    {
      "cell_type": "markdown",
      "id": "d6d1e28f",
      "metadata": {
        "id": "d6d1e28f"
      },
      "source": [
        "# EDA"
      ]
    },
    {
      "cell_type": "markdown",
      "id": "488c0a0b",
      "metadata": {
        "id": "488c0a0b"
      },
      "source": [
        "## Распределение рейтинга и доли прочтения"
      ]
    },
    {
      "cell_type": "code",
      "execution_count": 92,
      "id": "a5e390d3",
      "metadata": {
        "colab": {
          "base_uri": "https://localhost:8080/",
          "height": 445
        },
        "id": "a5e390d3",
        "outputId": "918a38d1-5e8b-4186-f54f-0f4b298e0919"
      },
      "outputs": [
        {
          "output_type": "display_data",
          "data": {
            "text/plain": [
              "<Figure size 1000x500 with 1 Axes>"
            ],
            "image/png": "[encoded data removed]"
          },
          "metadata": {}
        }
      ],
      "source": [
        "df['progress'].hist(bins=50, figsize=(10, 5));"
      ]
    },
    {
      "cell_type": "markdown",
      "id": "2f0cc915",
      "metadata": {
        "id": "2f0cc915"
      },
      "source": [
        "Либо бросают быстро, либо дочитывают до конца"
      ]
    },
    {
      "cell_type": "code",
      "execution_count": 93,
      "id": "0754cc49",
      "metadata": {
        "colab": {
          "base_uri": "https://localhost:8080/",
          "height": 445
        },
        "id": "0754cc49",
        "outputId": "c24eea9c-8d9b-47a1-e808-a6a714b7ebbb"
      },
      "outputs": [
        {
          "output_type": "display_data",
          "data": {
            "text/plain": [
              "<Figure size 1000x500 with 1 Axes>"
            ],
            "image/png": "[encoded data removed]"
          },
          "metadata": {}
        }
      ],
      "source": [
        "df['rating'].hist(bins=10, figsize=(10, 5));"
      ]
    },
    {
      "cell_type": "markdown",
      "id": "70284fd0",
      "metadata": {
        "id": "70284fd0"
      },
      "source": [
        "Пользователи взаимодействуют с айтемами, которые им, скорее всего, понравятся, и предпочитают ставить оценки понравившимся, поэтому в реальных данных часто наблюдается смещение в сторону положительных оценок."
      ]
    },
    {
      "cell_type": "code",
      "execution_count": 94,
      "id": "50e731ec",
      "metadata": {
        "colab": {
          "base_uri": "https://localhost:8080/"
        },
        "id": "50e731ec",
        "outputId": "3c74aba7-f7f0-4d84-ce78-fbde9bb420d4"
      },
      "outputs": [
        {
          "output_type": "execute_result",
          "data": {
            "text/plain": [
              "rating\n",
              "5.0    214703\n",
              "4.0     40382\n",
              "3.0     18273\n",
              "1.0      6115\n",
              "2.0      5864\n",
              "Name: count, dtype: int64"
            ]
          },
          "metadata": {},
          "execution_count": 94
        }
      ],
      "source": [
        "df['rating'].value_counts()"
      ]
    },
    {
      "cell_type": "markdown",
      "source": [
        "## Распределение числа прочтений у пользователя и книги"
      ],
      "metadata": {
        "id": "JVsa-FDRTXrF"
      },
      "id": "JVsa-FDRTXrF"
    },
    {
      "cell_type": "code",
      "source": [
        "user_groups = df.groupby('user_id')['item_id'].count()\n",
        "user_groups[user_groups < user_groups.quantile(0.99)].hist(bins=50);"
      ],
      "metadata": {
        "colab": {
          "base_uri": "https://localhost:8080/",
          "height": 430
        },
        "id": "SrgBVNNEShhW",
        "outputId": "f41d4a7c-f36f-47f5-c7e3-97a40db17927"
      },
      "id": "SrgBVNNEShhW",
      "execution_count": 95,
      "outputs": [
        {
          "output_type": "display_data",
          "data": {
            "text/plain": [
              "<Figure size 640x480 with 1 Axes>"
            ],
            "image/png": "[encoded data removed]"
          },
          "metadata": {}
        }
      ]
    },
    {
      "cell_type": "code",
      "source": [
        "item_groups = df.groupby('item_id')['user_id'].count()\n",
        "item_groups[item_groups < item_groups.quantile(0.99)].hist(bins=50);"
      ],
      "metadata": {
        "colab": {
          "base_uri": "https://localhost:8080/",
          "height": 430
        },
        "id": "YhpSDDi3TfIa",
        "outputId": "0d2ae847-3de1-4fd2-fa17-cbf5045b5961"
      },
      "id": "YhpSDDi3TfIa",
      "execution_count": 96,
      "outputs": [
        {
          "output_type": "display_data",
          "data": {
            "text/plain": [
              "<Figure size 640x480 with 1 Axes>"
            ],
            "image/png": "[encoded data removed]"
          },
          "metadata": {}
        }
      ]
    },
    {
      "cell_type": "code",
      "source": [
        "df.info()"
      ],
      "metadata": {
        "colab": {
          "base_uri": "https://localhost:8080/"
        },
        "id": "x4vgE2lQl_85",
        "outputId": "73310151-a593-4642-f634-8737f88f2794"
      },
      "id": "x4vgE2lQl_85",
      "execution_count": 97,
      "outputs": [
        {
          "output_type": "stream",
          "name": "stdout",
          "text": [
            "<class 'pandas.core.frame.DataFrame'>\n",
            "Index: 1532998 entries, 0 to 1533077\n",
            "Data columns (total 5 columns):\n",
            " #   Column      Non-Null Count    Dtype  \n",
            "---  ------      --------------    -----  \n",
            " 0   user_id     1532998 non-null  int64  \n",
            " 1   item_id     1532998 non-null  int64  \n",
            " 2   progress    1532998 non-null  int64  \n",
            " 3   rating      285337 non-null   float64\n",
            " 4   start_date  1532998 non-null  object \n",
            "dtypes: float64(1), int64(3), object(1)\n",
            "memory usage: 70.2+ MB\n"
          ]
        }
      ]
    },
    {
      "cell_type": "code",
      "source": [
        "df_implicit = df.copy()\n",
        "df_explicit = df.dropna()"
      ],
      "metadata": {
        "id": "WqXq_Chcl5vw"
      },
      "id": "WqXq_Chcl5vw",
      "execution_count": 98,
      "outputs": []
    },
    {
      "cell_type": "markdown",
      "source": [
        "# ALS"
      ],
      "metadata": {
        "id": "4p9aqBnOUVbX"
      },
      "id": "4p9aqBnOUVbX"
    },
    {
      "cell_type": "markdown",
      "source": [
        "## Implicit"
      ],
      "metadata": {
        "id": "EeaRxYSLmL4r"
      },
      "id": "EeaRxYSLmL4r"
    },
    {
      "cell_type": "markdown",
      "source": [
        "### Filter data"
      ],
      "metadata": {
        "id": "XAya6n_QnWC1"
      },
      "id": "XAya6n_QnWC1"
    },
    {
      "cell_type": "code",
      "source": [
        "def filter_data(df, user_count=10, item_count=10):\n",
        "    item_counts = df.groupby(ITEM_COL)[USER_COL].count()\n",
        "    pop_items = item_counts[item_counts > user_count]\n",
        "    df_implicit = df[df[ITEM_COL].isin(pop_items.index)]\n",
        "\n",
        "    user_counts = df.groupby(USER_COL)[ITEM_COL].count()\n",
        "    pop_users = user_counts[user_counts > item_count]\n",
        "    df = df[df[USER_COL].isin(pop_users.index)].copy()\n",
        "    return df"
      ],
      "metadata": {
        "id": "8H6YAppumZG7"
      },
      "id": "8H6YAppumZG7",
      "execution_count": null,
      "outputs": []
    },
    {
      "cell_type": "markdown",
      "source": [
        "Фильтруем пользователей, у которых меньше 10 прочитанных книг и книги, которые прочли менее 20 пользователей."
      ],
      "metadata": {
        "id": "i7TZkvCVpGQ6"
      },
      "id": "i7TZkvCVpGQ6"
    },
    {
      "cell_type": "code",
      "source": [
        "df_implicit = filter_data(df_implicit, user_count=10, item_count=20)\n",
        "df_implicit.shape[0]"
      ],
      "metadata": {
        "colab": {
          "base_uri": "https://localhost:8080/"
        },
        "id": "1Yr5i9AJmseV",
        "outputId": "8911b525-d7f3-4811-9f75-f3e85e1cd143"
      },
      "id": "1Yr5i9AJmseV",
      "execution_count": 99,
      "outputs": [
        {
          "output_type": "execute_result",
          "data": {
            "text/plain": [
              "459065"
            ]
          },
          "metadata": {},
          "execution_count": 99
        }
      ]
    },
    {
      "cell_type": "markdown",
      "source": [
        "### Train-test-split"
      ],
      "metadata": {
        "id": "5uTaublfso9f"
      },
      "id": "5uTaublfso9f"
    },
    {
      "cell_type": "markdown",
      "source": [
        "На этот раз отделяем данные в тест по timestemp. Оценивать качество будем предсказывая последний айтем из теста."
      ],
      "metadata": {
        "id": "kBfSMShspuKT"
      },
      "id": "kBfSMShspuKT"
    },
    {
      "cell_type": "code",
      "source": [
        "def train_test_split(\n",
        "    clickstream_df,\n",
        "    test_quantile=0.9\n",
        "):\n",
        "    \"\"\"\n",
        "    Split clickstream by date.\n",
        "    \"\"\"\n",
        "    clickstream_df = clickstream_df.sort_values([USER_COL, TIMESTAMP])\n",
        "    test_timepoint = clickstream_df[TIMESTAMP].quantile(\n",
        "    q=test_quantile, interpolation='nearest'\n",
        "    )\n",
        "    test = clickstream_df.query(f'{TIMESTAMP} >= @test_timepoint')\n",
        "    train = clickstream_df.drop(test.index)\n",
        "\n",
        "    test = test[test[USER_COL].isin(train[USER_COL])]\n",
        "    test = test[test[ITEM_COL].isin(train[ITEM_COL])]\n",
        "\n",
        "    test_full_history = test.sort_values([USER_COL, TIMESTAMP]).groupby(USER_COL)\n",
        "    last_item = test_full_history.tail(1)\n",
        "    test_history = test_full_history.head(-1)\n",
        "\n",
        "    test = pd.concat([train, test_history])\n",
        "\n",
        "    test.reset_index(drop=True, inplace=True)\n",
        "    train.reset_index(drop=True, inplace=True)\n",
        "    return train, test, last_item"
      ],
      "metadata": {
        "id": "oNkRS1BF6Tyc"
      },
      "id": "oNkRS1BF6Tyc",
      "execution_count": 100,
      "outputs": []
    },
    {
      "cell_type": "code",
      "source": [
        "train, test, last_item = train_test_split(df_implicit)"
      ],
      "metadata": {
        "id": "SqadHayr0Bs3"
      },
      "id": "SqadHayr0Bs3",
      "execution_count": 101,
      "outputs": []
    },
    {
      "cell_type": "markdown",
      "source": [
        "Оставим только понравившиеся книги."
      ],
      "metadata": {
        "id": "BrYl-6QWsFS2"
      },
      "id": "BrYl-6QWsFS2"
    },
    {
      "cell_type": "code",
      "source": [
        "last_item = last_item[last_item[IMP_RATING_COL] >= 10]"
      ],
      "metadata": {
        "id": "Hsz2ewLXBMdl"
      },
      "id": "Hsz2ewLXBMdl",
      "execution_count": 102,
      "outputs": []
    },
    {
      "cell_type": "markdown",
      "source": [
        "### Train model"
      ],
      "metadata": {
        "id": "Xv1WDFAwnbIJ"
      },
      "id": "Xv1WDFAwnbIJ"
    },
    {
      "cell_type": "code",
      "source": [
        "def get_sparse_matrix(df, rating_col):\n",
        "    rating = list(df[rating_col])\n",
        "\n",
        "    rows = df[USER_COL].astype('category').cat.codes\n",
        "    cols = df[ITEM_COL].astype('category').cat.codes\n",
        "\n",
        "    df_sparse = sparse.csr_matrix((rating, (rows, cols)))\n",
        "    return df_sparse, rows, cols"
      ],
      "metadata": {
        "id": "IMfH53D-Ss8B"
      },
      "id": "IMfH53D-Ss8B",
      "execution_count": 103,
      "outputs": []
    },
    {
      "cell_type": "code",
      "source": [
        "train_sparse, train_rows_imp, train_cols_imp = get_sparse_matrix(train, IMP_RATING_COL)"
      ],
      "metadata": {
        "id": "iv6d37NsgjM6"
      },
      "id": "iv6d37NsgjM6",
      "execution_count": 104,
      "outputs": []
    },
    {
      "cell_type": "markdown",
      "source": [
        "Посмотрим, насколько разрежена полученная матрица."
      ],
      "metadata": {
        "id": "k0SBPdi2r3Mm"
      },
      "id": "k0SBPdi2r3Mm"
    },
    {
      "cell_type": "code",
      "source": [
        "matrix_size = train_sparse.shape[0] * train_sparse.shape[1] # Number of possible interactions in the matrix\n",
        "num_purchases = len(train_sparse.nonzero()[0]) # Number of items interacted with\n",
        "sparsity = 100 * (1 - (num_purchases/matrix_size))\n",
        "sparsity"
      ],
      "metadata": {
        "colab": {
          "base_uri": "https://localhost:8080/"
        },
        "id": "edVYHQAyfSN1",
        "outputId": "8850bff3-8f19-4acc-b41b-eb0242f6ddfd"
      },
      "id": "edVYHQAyfSN1",
      "execution_count": 105,
      "outputs": [
        {
          "output_type": "execute_result",
          "data": {
            "text/plain": [
              "99.91371114916436"
            ]
          },
          "metadata": {},
          "execution_count": 105
        }
      ]
    },
    {
      "cell_type": "code",
      "source": [
        "algo = implicit.als.AlternatingLeastSquares(factors=50, regularization=0.1, iterations=50, use_gpu=False)\n",
        "algo.fit((train_sparse).astype('double'))"
      ],
      "metadata": {
        "colab": {
          "base_uri": "https://localhost:8080/",
          "height": 49,
          "referenced_widgets": [
            "8e05c1dd4acb4020ac708f529554fd8c",
            "c5f6cc4a628848b9b3bffb1c8eab948d",
            "1dea377723424f10be385bf64914161a",
            "fc71016658a64abaa40a061917616465",
            "5cf90f9f6b9f4520ae32900227371e7e",
            "d42a291c402e480291556dee2a68bf8e",
            "7cb6339a73f24f98945559f62cb1a563",
            "08cad42d1b524804852e86a2345b6ee6",
            "1c0671150eb346298a071f4e4f509e28",
            "64d53f9863a04a7b8ed7f52c96da0acf",
            "daa0e1868e8b46559a4b42e27c65dab2"
          ]
        },
        "id": "lWPFRyNuqVgq",
        "outputId": "554d5494-554a-4df4-f862-5a580286f17b"
      },
      "id": "lWPFRyNuqVgq",
      "execution_count": 106,
      "outputs": [
        {
          "output_type": "display_data",
          "data": {
            "text/plain": [
              "  0%|          | 0/50 [00:00<?, ?it/s]"
            ],
            "application/vnd.jupyter.widget-view+json": {
              "version_major": 2,
              "version_minor": 0,
              "model_id": "8e05c1dd4acb4020ac708f529554fd8c"
            }
          },
          "metadata": {}
        }
      ]
    },
    {
      "cell_type": "code",
      "source": [
        "user_vecs = algo.user_factors\n",
        "item_vecs = algo.item_factors\n",
        "\n",
        "print(train_sparse.shape)\n",
        "print(user_vecs.shape, item_vecs.shape)"
      ],
      "metadata": {
        "colab": {
          "base_uri": "https://localhost:8080/"
        },
        "id": "8OwvMeRWhih_",
        "outputId": "9fa1b90f-ee0b-40bb-c26b-aa4507d1088c"
      },
      "id": "8OwvMeRWhih_",
      "execution_count": 107,
      "outputs": [
        {
          "output_type": "stream",
          "name": "stdout",
          "text": [
            "(7561, 51358)\n",
            "(7561, 50) (51358, 50)\n"
          ]
        }
      ]
    },
    {
      "cell_type": "markdown",
      "source": [
        "### Predict"
      ],
      "metadata": {
        "id": "R6dIlV9VtXJ-"
      },
      "id": "R6dIlV9VtXJ-"
    },
    {
      "cell_type": "markdown",
      "source": [
        "$ \\hat{R} = U_{d} V^{T}_{d}$"
      ],
      "metadata": {
        "id": "5SIqZeV_wp3H"
      },
      "id": "5SIqZeV_wp3H"
    },
    {
      "cell_type": "code",
      "source": [
        "def get_scores(user_vecs, item_vecs, rating_matrix):\n",
        "    scores = user_vecs.dot(item_vecs.T)\n",
        "    scores = np.multiply(scores,\n",
        "        np.invert(rating_matrix.astype(bool))\n",
        "        )\n",
        "    return scores\n",
        "\n",
        "def predict(scores, rows, cols, k=10):\n",
        "    id2user = dict(zip(rows, train.user_id))\n",
        "    id2item = dict(zip(cols, train.item_id))\n",
        "\n",
        "    ind_part = np.argpartition(scores, -k + 1)[:, -k:].copy()\n",
        "    scores_not_sorted = np.take_along_axis(scores, ind_part, axis=1)\n",
        "    ind_sorted = np.argsort(scores_not_sorted, axis=1)\n",
        "    indices = np.take_along_axis(ind_part, ind_sorted, axis=1)\n",
        "    preds = pd.DataFrame({\n",
        "        USER_COL: range(scores.shape[0]),\n",
        "        'preds': np.flip(indices, axis=1).tolist(),\n",
        "        })\n",
        "    preds[USER_COL] = preds[USER_COL].map(id2user)\n",
        "    preds['preds'] = preds['preds'].map(lambda inds: [id2item[i] for i in inds])\n",
        "    return preds"
      ],
      "metadata": {
        "id": "FHkpzfkshP9d"
      },
      "id": "FHkpzfkshP9d",
      "execution_count": 108,
      "outputs": []
    },
    {
      "cell_type": "code",
      "source": [
        "scores_imp = get_scores(user_vecs, item_vecs, train_sparse.todense())\n",
        "pred_imp = predict(scores_imp, train_rows_imp, train_cols_imp)\n",
        "pred_imp = pred_imp.merge(last_item, how='right', on='user_id')"
      ],
      "metadata": {
        "id": "lKiNQHpCGYkq"
      },
      "id": "lKiNQHpCGYkq",
      "execution_count": 109,
      "outputs": []
    },
    {
      "cell_type": "code",
      "source": [
        "def hr(df: pd.DataFrame, pred_col='preds', true_col='item_id') -> float:\n",
        "    hr_values = []\n",
        "    for _, row in df.iterrows():\n",
        "      hr_values.append(int(row[true_col] in row[pred_col]))\n",
        "    return round(np.mean(hr_values), 4)"
      ],
      "metadata": {
        "id": "wwFinwglhape"
      },
      "execution_count": 110,
      "outputs": [],
      "id": "wwFinwglhape"
    },
    {
      "cell_type": "code",
      "source": [
        "hr(pred_imp)"
      ],
      "metadata": {
        "colab": {
          "base_uri": "https://localhost:8080/"
        },
        "id": "rnhZvxvfh__k",
        "outputId": "bf7b119b-d056-44a5-967c-53367823b0e6"
      },
      "execution_count": 111,
      "outputs": [
        {
          "output_type": "execute_result",
          "data": {
            "text/plain": [
              "0.0136"
            ]
          },
          "metadata": {},
          "execution_count": 111
        }
      ],
      "id": "rnhZvxvfh__k"
    },
    {
      "cell_type": "markdown",
      "source": [
        "## Explicit"
      ],
      "metadata": {
        "id": "ThUwwrXNrec8"
      },
      "id": "ThUwwrXNrec8"
    },
    {
      "cell_type": "markdown",
      "source": [
        "### Filter data"
      ],
      "metadata": {
        "id": "xFoe0eINrec9"
      },
      "id": "xFoe0eINrec9"
    },
    {
      "cell_type": "markdown",
      "source": [
        "Фильтруем пользователей, которые поставили меньше 10 оценок и книги, у которых менее 10 оценок."
      ],
      "metadata": {
        "id": "8SI_Th1StK_m"
      },
      "id": "8SI_Th1StK_m"
    },
    {
      "cell_type": "code",
      "source": [
        "df_explicit = filter_data(df_explicit, user_count=10, item_count=10)\n",
        "df_explicit.shape[0]"
      ],
      "metadata": {
        "colab": {
          "base_uri": "https://localhost:8080/"
        },
        "outputId": "aeca06eb-e2cb-42e0-b044-fce1a3b69c09",
        "id": "25f6SZiErec9"
      },
      "execution_count": 112,
      "outputs": [
        {
          "output_type": "execute_result",
          "data": {
            "text/plain": [
              "101373"
            ]
          },
          "metadata": {},
          "execution_count": 112
        }
      ],
      "id": "25f6SZiErec9"
    },
    {
      "cell_type": "markdown",
      "source": [
        "### Train-test-split"
      ],
      "metadata": {
        "id": "NtB1_8Slrec-"
      },
      "id": "NtB1_8Slrec-"
    },
    {
      "cell_type": "markdown",
      "source": [
        "Разделим данные и оставим только книги с высокими оценками."
      ],
      "metadata": {
        "id": "K6iONGn5tcWp"
      },
      "id": "K6iONGn5tcWp"
    },
    {
      "cell_type": "code",
      "source": [
        "train, test, last_item = train_test_split(df_explicit)\n",
        "last_item = last_item[last_item[EXP_RATING_COL] >= 4]"
      ],
      "metadata": {
        "id": "G_vAXOoFrec-"
      },
      "execution_count": 113,
      "outputs": [],
      "id": "G_vAXOoFrec-"
    },
    {
      "cell_type": "markdown",
      "source": [
        "### Train model"
      ],
      "metadata": {
        "id": "PFvWaNtArec-"
      },
      "id": "PFvWaNtArec-"
    },
    {
      "cell_type": "code",
      "source": [
        "train_sparse, train_rows_exp, train_cols_exp = get_sparse_matrix(train, EXP_RATING_COL)"
      ],
      "metadata": {
        "id": "7NN2oTpwuyyv"
      },
      "execution_count": 114,
      "outputs": [],
      "id": "7NN2oTpwuyyv"
    },
    {
      "cell_type": "markdown",
      "source": [
        "Посмотрим, насколько разрежена полученная матрица."
      ],
      "metadata": {
        "id": "sBMrhsevwR8r"
      },
      "id": "sBMrhsevwR8r"
    },
    {
      "cell_type": "code",
      "source": [
        "matrix_size = train_sparse.shape[0] * train_sparse.shape[1] # Number of possible interactions in the matrix\n",
        "num_purchases = len(train_sparse.nonzero()[0]) # Number of items interacted with\n",
        "sparsity = 100 * (1 - (num_purchases/matrix_size))\n",
        "sparsity"
      ],
      "metadata": {
        "colab": {
          "base_uri": "https://localhost:8080/"
        },
        "outputId": "dd87bf3b-0759-4dd6-db92-99913afb93b8",
        "id": "GGmQyAArrec-"
      },
      "execution_count": 115,
      "outputs": [
        {
          "output_type": "execute_result",
          "data": {
            "text/plain": [
              "99.79784166700252"
            ]
          },
          "metadata": {},
          "execution_count": 115
        }
      ],
      "id": "GGmQyAArrec-"
    },
    {
      "cell_type": "code",
      "source": [
        "algo = implicit.als.AlternatingLeastSquares(factors=50, regularization=0.1, iterations=50, use_gpu=False)\n",
        "algo.fit((train_sparse).astype('double'))"
      ],
      "metadata": {
        "colab": {
          "base_uri": "https://localhost:8080/",
          "height": 49,
          "referenced_widgets": [
            "7b99536b054a41918f66b0d65c0cb25a",
            "2bde30143a7644d2a06bbb88fc9ab0d6",
            "da3505fbdfb64a7496be6d48c6ec432d",
            "fcc44683799442aab868d31248431f14",
            "9cc4462f33844e67b405aa5831192d8e",
            "ba4fd2f84c894a0caf944d2fe4b8099d",
            "0a2714d93c0444d0a40b6af00e04893e",
            "fb73d6a09dee40c395f9afbe710aa4f2",
            "2a850bd5ca4f4262a24f7d66e1664b9d",
            "60adfdf5284f40ac89581ed46c4c7cd0",
            "142d27439d124d9082a46dc2463e4efc"
          ]
        },
        "outputId": "c8578604-f83d-4e7c-836a-bc92225e849c",
        "id": "fCzsUXeGrec_"
      },
      "execution_count": 116,
      "outputs": [
        {
          "output_type": "display_data",
          "data": {
            "text/plain": [
              "  0%|          | 0/50 [00:00<?, ?it/s]"
            ],
            "application/vnd.jupyter.widget-view+json": {
              "version_major": 2,
              "version_minor": 0,
              "model_id": "7b99536b054a41918f66b0d65c0cb25a"
            }
          },
          "metadata": {}
        }
      ],
      "id": "fCzsUXeGrec_"
    },
    {
      "cell_type": "code",
      "source": [
        "user_vecs = algo.user_factors\n",
        "item_vecs = algo.item_factors\n",
        "# проверим по размерам, что мы действиельно не перепутали users и items\n",
        "print(train_sparse.shape)\n",
        "print(user_vecs.shape, item_vecs.shape)"
      ],
      "metadata": {
        "id": "aWoNTIaOrec_",
        "colab": {
          "base_uri": "https://localhost:8080/"
        },
        "outputId": "be5ea4ca-ffc9-4705-8c30-3f9a986a11a6"
      },
      "execution_count": 117,
      "outputs": [
        {
          "output_type": "stream",
          "name": "stdout",
          "text": [
            "(2514, 17943)\n",
            "(2514, 50) (17943, 50)\n"
          ]
        }
      ],
      "id": "aWoNTIaOrec_"
    },
    {
      "cell_type": "markdown",
      "source": [
        "### Predict"
      ],
      "metadata": {
        "id": "_jcAk5sLtR3f"
      },
      "id": "_jcAk5sLtR3f"
    },
    {
      "cell_type": "code",
      "source": [
        "scores_exp = get_scores(user_vecs, item_vecs, train_sparse.todense())\n",
        "pred_exp = predict(scores_exp, train_rows_exp, train_cols_exp)\n",
        "pred_exp = pred_exp.merge(last_item, how='right', on='user_id')"
      ],
      "metadata": {
        "id": "W40sNROYJl6Q"
      },
      "execution_count": 118,
      "outputs": [],
      "id": "W40sNROYJl6Q"
    },
    {
      "cell_type": "code",
      "source": [
        "hr(pred_exp)"
      ],
      "metadata": {
        "colab": {
          "base_uri": "https://localhost:8080/"
        },
        "id": "BR-24ez6lZjg",
        "outputId": "6956ffb1-812e-4e74-a00f-2630283bd602"
      },
      "id": "BR-24ez6lZjg",
      "execution_count": 119,
      "outputs": [
        {
          "output_type": "execute_result",
          "data": {
            "text/plain": [
              "0.0285"
            ]
          },
          "metadata": {},
          "execution_count": 119
        }
      ]
    },
    {
      "cell_type": "markdown",
      "source": [
        "# Online prediction"
      ],
      "metadata": {
        "id": "gdmTTfMgUvEI"
      },
      "id": "gdmTTfMgUvEI"
    },
    {
      "cell_type": "markdown",
      "source": [
        "$ \\hat{R} = R V_{d} V^{T}_{d}$"
      ],
      "metadata": {
        "id": "RL4gBC-iX_zI"
      },
      "id": "RL4gBC-iX_zI"
    },
    {
      "cell_type": "code",
      "source": [
        "test_sparse, test_rows_exp, test_cols_exp = get_sparse_matrix(test, EXP_RATING_COL)"
      ],
      "metadata": {
        "id": "8DnHWEydzZd1"
      },
      "id": "8DnHWEydzZd1",
      "execution_count": 120,
      "outputs": []
    },
    {
      "cell_type": "code",
      "source": [
        "def get_scores_new_actions(item_vecs, updated_rating_matrix):\n",
        "    scores = updated_rating_matrix.dot(item_vecs) @ item_vecs.T\n",
        "    scores = np.multiply(scores,\n",
        "        np.invert(updated_rating_matrix.astype(bool))\n",
        "        )\n",
        "    return scores"
      ],
      "metadata": {
        "id": "xj_TDuWGmJTa"
      },
      "id": "xj_TDuWGmJTa",
      "execution_count": 121,
      "outputs": []
    },
    {
      "cell_type": "code",
      "source": [
        "scores_exp_updated = get_scores_new_actions(item_vecs, test_sparse.todense())\n",
        "pred_exp_updated = predict(scores_exp_updated, test_rows_exp, test_cols_exp)\n",
        "pred_exp_updated = pred_exp_updated.merge(last_item, how='right', on='user_id')"
      ],
      "metadata": {
        "id": "H1znO11cnvjh"
      },
      "execution_count": 122,
      "outputs": [],
      "id": "H1znO11cnvjh"
    },
    {
      "cell_type": "code",
      "source": [
        "hr(pred_exp_updated)"
      ],
      "metadata": {
        "colab": {
          "base_uri": "https://localhost:8080/"
        },
        "outputId": "cd1e6f56-b556-4fe7-d476-7cf45ee963d9",
        "id": "2FN7sAfenvjo"
      },
      "execution_count": 123,
      "outputs": [
        {
          "output_type": "execute_result",
          "data": {
            "text/plain": [
              "0.0506"
            ]
          },
          "metadata": {},
          "execution_count": 123
        }
      ],
      "id": "2FN7sAfenvjo"
    },
    {
      "cell_type": "markdown",
      "source": [
        "Проверим качество, используя только действия из трейна."
      ],
      "metadata": {
        "id": "Oz2IxwqCzx96"
      },
      "id": "Oz2IxwqCzx96"
    },
    {
      "cell_type": "code",
      "source": [
        "scores_exp = get_scores_new_actions(item_vecs, train_sparse.todense())\n",
        "pred_exp = predict(scores_exp, train_rows_exp, train_cols_exp)\n",
        "pred_exp = pred_exp.merge(last_item, how='right', on='user_id')"
      ],
      "metadata": {
        "id": "Wob0Mx7comT1"
      },
      "id": "Wob0Mx7comT1",
      "execution_count": 124,
      "outputs": []
    },
    {
      "cell_type": "code",
      "source": [
        "hr(pred_exp)"
      ],
      "metadata": {
        "colab": {
          "base_uri": "https://localhost:8080/"
        },
        "id": "5ALGXfZhovbx",
        "outputId": "7732282b-06f3-450c-b9d3-54d068c9a017"
      },
      "id": "5ALGXfZhovbx",
      "execution_count": 125,
      "outputs": [
        {
          "output_type": "execute_result",
          "data": {
            "text/plain": [
              "0.0272"
            ]
          },
          "metadata": {},
          "execution_count": 125
        }
      ]
    },
    {
      "cell_type": "markdown",
      "source": [
        "## Предсказание для одного пользователя"
      ],
      "metadata": {
        "id": "pdEH8l_FPBu0"
      },
      "id": "pdEH8l_FPBu0"
    },
    {
      "cell_type": "code",
      "source": [
        "items = pd.read_csv('items.csv')"
      ],
      "metadata": {
        "id": "gVlSn9HTTX2s"
      },
      "id": "gVlSn9HTTX2s",
      "execution_count": 126,
      "outputs": []
    },
    {
      "cell_type": "code",
      "source": [
        "id2item = dict(zip(test_cols_exp, test.item_id))"
      ],
      "metadata": {
        "id": "XF3Kf4--QWXV"
      },
      "id": "XF3Kf4--QWXV",
      "execution_count": 127,
      "outputs": []
    },
    {
      "cell_type": "code",
      "source": [
        "recommendations = algo.recommend(0, test_sparse[0])"
      ],
      "metadata": {
        "id": "4xZoSMcs0NIz"
      },
      "id": "4xZoSMcs0NIz",
      "execution_count": 128,
      "outputs": []
    },
    {
      "cell_type": "code",
      "source": [
        "recommendations"
      ],
      "metadata": {
        "colab": {
          "base_uri": "https://localhost:8080/"
        },
        "id": "XxOomy9aPwpe",
        "outputId": "782c95d7-ee5c-40b7-dda8-20369f810fe3"
      },
      "id": "XxOomy9aPwpe",
      "execution_count": 129,
      "outputs": [
        {
          "output_type": "execute_result",
          "data": {
            "text/plain": [
              "(array([14547, 10450,  2246,  1322,   124,  8297,  4866,  1238,  7814,\n",
              "         7034], dtype=int32),\n",
              " array([0.12471227, 0.11544029, 0.11029245, 0.11006856, 0.10615963,\n",
              "        0.10539725, 0.10444929, 0.10253426, 0.10239471, 0.1012171 ],\n",
              "       dtype=float32))"
            ]
          },
          "metadata": {},
          "execution_count": 129
        }
      ]
    },
    {
      "cell_type": "code",
      "source": [
        "pd.DataFrame([id2item[i] for i in recommendations[0]]).merge(items, left_on=0, right_on='id')"
      ],
      "metadata": {
        "colab": {
          "base_uri": "https://localhost:8080/",
          "height": 363
        },
        "id": "4Oi_r_QgVKnV",
        "outputId": "de1ae463-66ac-4a2d-a8a8-65f36b9a2ddc"
      },
      "id": "4Oi_r_QgVKnV",
      "execution_count": 130,
      "outputs": [
        {
          "output_type": "execute_result",
          "data": {
            "text/plain": [
              "        0      id                              title  \\\n",
              "0  261138  261138                              Летос   \n",
              "1  187501  187501  Разрушитель божественных замыслов   \n",
              "2   39765   39765               Первые сполохи войны   \n",
              "3   23553   23553                   Вся правда о нас   \n",
              "4    2028    2028            Скорпион Его Величества   \n",
              "5  149503  149503                              Чужак   \n",
              "6   88397   88397               Пешка в большой игре   \n",
              "7   22066   22066             Заложник долга и чести   \n",
              "8  140991  140991          Лабиринт Мёнина (сборник)   \n",
              "9  126214  126214               Взять живым мёртвого   \n",
              "\n",
              "                                              genres           authors  year  \n",
              "0                 Героическое фэнтези,Боевое фэнтези     Алексей Пехов  2014  \n",
              "1       Героическое фэнтези,Попаданцы,Боевое фэнтези  Владимир Сухинин  2017  \n",
              "2       Героическое фэнтези,Попаданцы,Боевое фэнтези  Владимир Сухинин  2018  \n",
              "3  Детективное фэнтези,Городское фэнтези,Книги пр...         Макс Фрай  2015  \n",
              "4       Героическое фэнтези,Попаданцы,Боевое фэнтези  Владимир Сухинин  2018  \n",
              "5  Детективное фэнтези,Городское фэнтези,Книги пр...         Макс Фрай  1996  \n",
              "6       Героическое фэнтези,Попаданцы,Боевое фэнтези  Владимир Сухинин  2017  \n",
              "7       Героическое фэнтези,Попаданцы,Боевое фэнтези  Владимир Сухинин  2018  \n",
              "8  Детективное фэнтези,Героическое фэнтези,Городс...         Макс Фрай  2000  \n",
              "9  Детективное фэнтези,Героическое фэнтези,Попада...    Андрей Белянин  2017  "
            ],
            "text/html": [
              "\n",
              "  <div id=\"df-e4d084da-b623-46ca-bff0-09818d525046\" class=\"colab-df-container\">\n",
              "    <div>\n",
              "<style scoped>\n",
              "    .dataframe tbody tr th:only-of-type {\n",
              "        vertical-align: middle;\n",
              "    }\n",
              "\n",
              "    .dataframe tbody tr th {\n",
              "        vertical-align: top;\n",
              "    }\n",
              "\n",
              "    .dataframe thead th {\n",
              "        text-align: right;\n",
              "    }\n",
              "</style>\n",
              "<table border=\"1\" class=\"dataframe\">\n",
              "  <thead>\n",
              "    <tr style=\"text-align: right;\">\n",
              "      <th></th>\n",
              "      <th>0</th>\n",
              "      <th>id</th>\n",
              "      <th>title</th>\n",
              "      <th>genres</th>\n",
              "      <th>authors</th>\n",
              "      <th>year</th>\n",
              "    </tr>\n",
              "  </thead>\n",
              "  <tbody>\n",
              "    <tr>\n",
              "      <th>0</th>\n",
              "      <td>261138</td>\n",
              "      <td>261138</td>\n",
              "      <td>Летос</td>\n",
              "      <td>Героическое фэнтези,Боевое фэнтези</td>\n",
              "      <td>Алексей Пехов</td>\n",
              "      <td>2014</td>\n",
              "    </tr>\n",
              "    <tr>\n",
              "      <th>1</th>\n",
              "      <td>187501</td>\n",
              "      <td>187501</td>\n",
              "      <td>Разрушитель божественных замыслов</td>\n",
              "      <td>Героическое фэнтези,Попаданцы,Боевое фэнтези</td>\n",
              "      <td>Владимир Сухинин</td>\n",
              "      <td>2017</td>\n",
              "    </tr>\n",
              "    <tr>\n",
              "      <th>2</th>\n",
              "      <td>39765</td>\n",
              "      <td>39765</td>\n",
              "      <td>Первые сполохи войны</td>\n",
              "      <td>Героическое фэнтези,Попаданцы,Боевое фэнтези</td>\n",
              "      <td>Владимир Сухинин</td>\n",
              "      <td>2018</td>\n",
              "    </tr>\n",
              "    <tr>\n",
              "      <th>3</th>\n",
              "      <td>23553</td>\n",
              "      <td>23553</td>\n",
              "      <td>Вся правда о нас</td>\n",
              "      <td>Детективное фэнтези,Городское фэнтези,Книги пр...</td>\n",
              "      <td>Макс Фрай</td>\n",
              "      <td>2015</td>\n",
              "    </tr>\n",
              "    <tr>\n",
              "      <th>4</th>\n",
              "      <td>2028</td>\n",
              "      <td>2028</td>\n",
              "      <td>Скорпион Его Величества</td>\n",
              "      <td>Героическое фэнтези,Попаданцы,Боевое фэнтези</td>\n",
              "      <td>Владимир Сухинин</td>\n",
              "      <td>2018</td>\n",
              "    </tr>\n",
              "    <tr>\n",
              "      <th>5</th>\n",
              "      <td>149503</td>\n",
              "      <td>149503</td>\n",
              "      <td>Чужак</td>\n",
              "      <td>Детективное фэнтези,Городское фэнтези,Книги пр...</td>\n",
              "      <td>Макс Фрай</td>\n",
              "      <td>1996</td>\n",
              "    </tr>\n",
              "    <tr>\n",
              "      <th>6</th>\n",
              "      <td>88397</td>\n",
              "      <td>88397</td>\n",
              "      <td>Пешка в большой игре</td>\n",
              "      <td>Героическое фэнтези,Попаданцы,Боевое фэнтези</td>\n",
              "      <td>Владимир Сухинин</td>\n",
              "      <td>2017</td>\n",
              "    </tr>\n",
              "    <tr>\n",
              "      <th>7</th>\n",
              "      <td>22066</td>\n",
              "      <td>22066</td>\n",
              "      <td>Заложник долга и чести</td>\n",
              "      <td>Героическое фэнтези,Попаданцы,Боевое фэнтези</td>\n",
              "      <td>Владимир Сухинин</td>\n",
              "      <td>2018</td>\n",
              "    </tr>\n",
              "    <tr>\n",
              "      <th>8</th>\n",
              "      <td>140991</td>\n",
              "      <td>140991</td>\n",
              "      <td>Лабиринт Мёнина (сборник)</td>\n",
              "      <td>Детективное фэнтези,Героическое фэнтези,Городс...</td>\n",
              "      <td>Макс Фрай</td>\n",
              "      <td>2000</td>\n",
              "    </tr>\n",
              "    <tr>\n",
              "      <th>9</th>\n",
              "      <td>126214</td>\n",
              "      <td>126214</td>\n",
              "      <td>Взять живым мёртвого</td>\n",
              "      <td>Детективное фэнтези,Героическое фэнтези,Попада...</td>\n",
              "      <td>Андрей Белянин</td>\n",
              "      <td>2017</td>\n",
              "    </tr>\n",
              "  </tbody>\n",
              "</table>\n",
              "</div>\n",
              "    <div class=\"colab-df-buttons\">\n",
              "\n",
              "  <div class=\"colab-df-container\">\n",
              "    <button class=\"colab-df-convert\" onclick=\"convertToInteractive('df-e4d084da-b623-46ca-bff0-09818d525046')\"\n",
              "            title=\"Convert this dataframe to an interactive table.\"\n",
              "            style=\"display:none;\">\n",
              "\n",
              "  <svg xmlns=\"http://www.w3.org/2000/svg\" height=\"24px\" viewBox=\"0 -960 960 960\">\n",
              "    <path d=\"M120-120v-720h720v720H120Zm60-500h600v-160H180v160Zm220 220h160v-160H400v160Zm0 220h160v-160H400v160ZM180-400h160v-160H180v160Zm440 0h160v-160H620v160ZM180-180h160v-160H180v160Zm440 0h160v-160H620v160Z\"/>\n",
              "  </svg>\n",
              "    </button>\n",
              "\n",
              "  <style>\n",
              "    .colab-df-container {\n",
              "      display:flex;\n",
              "      gap: 12px;\n",
              "    }\n",
              "\n",
              "    .colab-df-convert {\n",
              "      background-color: #E8F0FE;\n",
              "      border: none;\n",
              "      border-radius: 50%;\n",
              "      cursor: pointer;\n",
              "      display: none;\n",
              "      fill: #1967D2;\n",
              "      height: 32px;\n",
              "      padding: 0 0 0 0;\n",
              "      width: 32px;\n",
              "    }\n",
              "\n",
              "    .colab-df-convert:hover {\n",
              "      background-color: #E2EBFA;\n",
              "      box-shadow: 0px 1px 2px rgba(60, 64, 67, 0.3), 0px 1px 3px 1px rgba(60, 64, 67, 0.15);\n",
              "      fill: #174EA6;\n",
              "    }\n",
              "\n",
              "    .colab-df-buttons div {\n",
              "      margin-bottom: 4px;\n",
              "    }\n",
              "\n",
              "    [theme=dark] .colab-df-convert {\n",
              "      background-color: #3B4455;\n",
              "      fill: #D2E3FC;\n",
              "    }\n",
              "\n",
              "    [theme=dark] .colab-df-convert:hover {\n",
              "      background-color: #434B5C;\n",
              "      box-shadow: 0px 1px 3px 1px rgba(0, 0, 0, 0.15);\n",
              "      filter: drop-shadow(0px 1px 2px rgba(0, 0, 0, 0.3));\n",
              "      fill: #FFFFFF;\n",
              "    }\n",
              "  </style>\n",
              "\n",
              "    <script>\n",
              "      const buttonEl =\n",
              "        document.querySelector('#df-e4d084da-b623-46ca-bff0-09818d525046 button.colab-df-convert');\n",
              "      buttonEl.style.display =\n",
              "        google.colab.kernel.accessAllowed ? 'block' : 'none';\n",
              "\n",
              "      async function convertToInteractive(key) {\n",
              "        const element = document.querySelector('#df-e4d084da-b623-46ca-bff0-09818d525046');\n",
              "        const dataTable =\n",
              "          await google.colab.kernel.invokeFunction('convertToInteractive',\n",
              "                                                    [key], {});\n",
              "        if (!dataTable) return;\n",
              "\n",
              "        const docLinkHtml = 'Like what you see? Visit the ' +\n",
              "          '<a target=\"_blank\" href=https://colab.research.google.com/notebooks/data_table.ipynb>data table notebook</a>'\n",
              "          + ' to learn more about interactive tables.';\n",
              "        element.innerHTML = '';\n",
              "        dataTable['output_type'] = 'display_data';\n",
              "        await google.colab.output.renderOutput(dataTable, element);\n",
              "        const docLink = document.createElement('div');\n",
              "        docLink.innerHTML = docLinkHtml;\n",
              "        element.appendChild(docLink);\n",
              "      }\n",
              "    </script>\n",
              "  </div>\n",
              "\n",
              "\n",
              "<div id=\"df-e20e5d95-2f8a-409a-b6a8-2aeea0bb1669\">\n",
              "  <button class=\"colab-df-quickchart\" onclick=\"quickchart('df-e20e5d95-2f8a-409a-b6a8-2aeea0bb1669')\"\n",
              "            title=\"Suggest charts\"\n",
              "            style=\"display:none;\">\n",
              "\n",
              "<svg xmlns=\"http://www.w3.org/2000/svg\" height=\"24px\"viewBox=\"0 0 24 24\"\n",
              "     width=\"24px\">\n",
              "    <g>\n",
              "        <path d=\"M19 3H5c-1.1 0-2 .9-2 2v14c0 1.1.9 2 2 2h14c1.1 0 2-.9 2-2V5c0-1.1-.9-2-2-2zM9 17H7v-7h2v7zm4 0h-2V7h2v10zm4 0h-2v-4h2v4z\"/>\n",
              "    </g>\n",
              "</svg>\n",
              "  </button>\n",
              "\n",
              "<style>\n",
              "  .colab-df-quickchart {\n",
              "      --bg-color: #E8F0FE;\n",
              "      --fill-color: #1967D2;\n",
              "      --hover-bg-color: #E2EBFA;\n",
              "      --hover-fill-color: #174EA6;\n",
              "      --disabled-fill-color: #AAA;\n",
              "      --disabled-bg-color: #DDD;\n",
              "  }\n",
              "\n",
              "  [theme=dark] .colab-df-quickchart {\n",
              "      --bg-color: #3B4455;\n",
              "      --fill-color: #D2E3FC;\n",
              "      --hover-bg-color: #434B5C;\n",
              "      --hover-fill-color: #FFFFFF;\n",
              "      --disabled-bg-color: #3B4455;\n",
              "      --disabled-fill-color: #666;\n",
              "  }\n",
              "\n",
              "  .colab-df-quickchart {\n",
              "    background-color: var(--bg-color);\n",
              "    border: none;\n",
              "    border-radius: 50%;\n",
              "    cursor: pointer;\n",
              "    display: none;\n",
              "    fill: var(--fill-color);\n",
              "    height: 32px;\n",
              "    padding: 0;\n",
              "    width: 32px;\n",
              "  }\n",
              "\n",
              "  .colab-df-quickchart:hover {\n",
              "    background-color: var(--hover-bg-color);\n",
              "    box-shadow: 0 1px 2px rgba(60, 64, 67, 0.3), 0 1px 3px 1px rgba(60, 64, 67, 0.15);\n",
              "    fill: var(--button-hover-fill-color);\n",
              "  }\n",
              "\n",
              "  .colab-df-quickchart-complete:disabled,\n",
              "  .colab-df-quickchart-complete:disabled:hover {\n",
              "    background-color: var(--disabled-bg-color);\n",
              "    fill: var(--disabled-fill-color);\n",
              "    box-shadow: none;\n",
              "  }\n",
              "\n",
              "  .colab-df-spinner {\n",
              "    border: 2px solid var(--fill-color);\n",
              "    border-color: transparent;\n",
              "    border-bottom-color: var(--fill-color);\n",
              "    animation:\n",
              "      spin 1s steps(1) infinite;\n",
              "  }\n",
              "\n",
              "  @keyframes spin {\n",
              "    0% {\n",
              "      border-color: transparent;\n",
              "      border-bottom-color: var(--fill-color);\n",
              "      border-left-color: var(--fill-color);\n",
              "    }\n",
              "    20% {\n",
              "      border-color: transparent;\n",
              "      border-left-color: var(--fill-color);\n",
              "      border-top-color: var(--fill-color);\n",
              "    }\n",
              "    30% {\n",
              "      border-color: transparent;\n",
              "      border-left-color: var(--fill-color);\n",
              "      border-top-color: var(--fill-color);\n",
              "      border-right-color: var(--fill-color);\n",
              "    }\n",
              "    40% {\n",
              "      border-color: transparent;\n",
              "      border-right-color: var(--fill-color);\n",
              "      border-top-color: var(--fill-color);\n",
              "    }\n",
              "    60% {\n",
              "      border-color: transparent;\n",
              "      border-right-color: var(--fill-color);\n",
              "    }\n",
              "    80% {\n",
              "      border-color: transparent;\n",
              "      border-right-color: var(--fill-color);\n",
              "      border-bottom-color: var(--fill-color);\n",
              "    }\n",
              "    90% {\n",
              "      border-color: transparent;\n",
              "      border-bottom-color: var(--fill-color);\n",
              "    }\n",
              "  }\n",
              "</style>\n",
              "\n",
              "  <script>\n",
              "    async function quickchart(key) {\n",
              "      const quickchartButtonEl =\n",
              "        document.querySelector('#' + key + ' button');\n",
              "      quickchartButtonEl.disabled = true;  // To prevent multiple clicks.\n",
              "      quickchartButtonEl.classList.add('colab-df-spinner');\n",
              "      try {\n",
              "        const charts = await google.colab.kernel.invokeFunction(\n",
              "            'suggestCharts', [key], {});\n",
              "      } catch (error) {\n",
              "        console.error('Error during call to suggestCharts:', error);\n",
              "      }\n",
              "      quickchartButtonEl.classList.remove('colab-df-spinner');\n",
              "      quickchartButtonEl.classList.add('colab-df-quickchart-complete');\n",
              "    }\n",
              "    (() => {\n",
              "      let quickchartButtonEl =\n",
              "        document.querySelector('#df-e20e5d95-2f8a-409a-b6a8-2aeea0bb1669 button');\n",
              "      quickchartButtonEl.style.display =\n",
              "        google.colab.kernel.accessAllowed ? 'block' : 'none';\n",
              "    })();\n",
              "  </script>\n",
              "</div>\n",
              "    </div>\n",
              "  </div>\n"
            ],
            "application/vnd.google.colaboratory.intrinsic+json": {
              "type": "dataframe",
              "summary": "{\n  \"name\": \"pd\",\n  \"rows\": 10,\n  \"fields\": [\n    {\n      \"column\": 0,\n      \"properties\": {\n        \"dtype\": \"number\",\n        \"std\": 84030,\n        \"min\": 2028,\n        \"max\": 261138,\n        \"num_unique_values\": 10,\n        \"samples\": [\n          140991,\n          187501,\n          149503\n        ],\n        \"semantic_type\": \"\",\n        \"description\": \"\"\n      }\n    },\n    {\n      \"column\": \"id\",\n      \"properties\": {\n        \"dtype\": \"number\",\n        \"std\": 84030,\n        \"min\": 2028,\n        \"max\": 261138,\n        \"num_unique_values\": 10,\n        \"samples\": [\n          140991,\n          187501,\n          149503\n        ],\n        \"semantic_type\": \"\",\n        \"description\": \"\"\n      }\n    },\n    {\n      \"column\": \"title\",\n      \"properties\": {\n        \"dtype\": \"string\",\n        \"num_unique_values\": 10,\n        \"samples\": [\n          \"\\u041b\\u0430\\u0431\\u0438\\u0440\\u0438\\u043d\\u0442 \\u041c\\u0451\\u043d\\u0438\\u043d\\u0430 (\\u0441\\u0431\\u043e\\u0440\\u043d\\u0438\\u043a)\",\n          \"\\u0420\\u0430\\u0437\\u0440\\u0443\\u0448\\u0438\\u0442\\u0435\\u043b\\u044c \\u0431\\u043e\\u0436\\u0435\\u0441\\u0442\\u0432\\u0435\\u043d\\u043d\\u044b\\u0445 \\u0437\\u0430\\u043c\\u044b\\u0441\\u043b\\u043e\\u0432\",\n          \"\\u0427\\u0443\\u0436\\u0430\\u043a\"\n        ],\n        \"semantic_type\": \"\",\n        \"description\": \"\"\n      }\n    },\n    {\n      \"column\": \"genres\",\n      \"properties\": {\n        \"dtype\": \"string\",\n        \"num_unique_values\": 5,\n        \"samples\": [\n          \"\\u0413\\u0435\\u0440\\u043e\\u0438\\u0447\\u0435\\u0441\\u043a\\u043e\\u0435 \\u0444\\u044d\\u043d\\u0442\\u0435\\u0437\\u0438,\\u041f\\u043e\\u043f\\u0430\\u0434\\u0430\\u043d\\u0446\\u044b,\\u0411\\u043e\\u0435\\u0432\\u043e\\u0435 \\u0444\\u044d\\u043d\\u0442\\u0435\\u0437\\u0438\",\n          \"\\u0414\\u0435\\u0442\\u0435\\u043a\\u0442\\u0438\\u0432\\u043d\\u043e\\u0435 \\u0444\\u044d\\u043d\\u0442\\u0435\\u0437\\u0438,\\u0413\\u0435\\u0440\\u043e\\u0438\\u0447\\u0435\\u0441\\u043a\\u043e\\u0435 \\u0444\\u044d\\u043d\\u0442\\u0435\\u0437\\u0438,\\u041f\\u043e\\u043f\\u0430\\u0434\\u0430\\u043d\\u0446\\u044b,\\u0420\\u0443\\u0441\\u0441\\u043a\\u043e\\u0435 \\u0444\\u044d\\u043d\\u0442\\u0435\\u0437\\u0438,\\u042e\\u043c\\u043e\\u0440\\u0438\\u0441\\u0442\\u0438\\u0447\\u0435\\u0441\\u043a\\u043e\\u0435 \\u0444\\u044d\\u043d\\u0442\\u0435\\u0437\\u0438\",\n          \"\\u0414\\u0435\\u0442\\u0435\\u043a\\u0442\\u0438\\u0432\\u043d\\u043e\\u0435 \\u0444\\u044d\\u043d\\u0442\\u0435\\u0437\\u0438,\\u0413\\u043e\\u0440\\u043e\\u0434\\u0441\\u043a\\u043e\\u0435 \\u0444\\u044d\\u043d\\u0442\\u0435\\u0437\\u0438,\\u041a\\u043d\\u0438\\u0433\\u0438 \\u043f\\u0440\\u043e \\u0432\\u043e\\u043b\\u0448\\u0435\\u0431\\u043d\\u0438\\u043a\\u043e\\u0432\"\n        ],\n        \"semantic_type\": \"\",\n        \"description\": \"\"\n      }\n    },\n    {\n      \"column\": \"authors\",\n      \"properties\": {\n        \"dtype\": \"category\",\n        \"num_unique_values\": 4,\n        \"samples\": [\n          \"\\u0412\\u043b\\u0430\\u0434\\u0438\\u043c\\u0438\\u0440 \\u0421\\u0443\\u0445\\u0438\\u043d\\u0438\\u043d\",\n          \"\\u0410\\u043d\\u0434\\u0440\\u0435\\u0439 \\u0411\\u0435\\u043b\\u044f\\u043d\\u0438\\u043d\",\n          \"\\u0410\\u043b\\u0435\\u043a\\u0441\\u0435\\u0439 \\u041f\\u0435\\u0445\\u043e\\u0432\"\n        ],\n        \"semantic_type\": \"\",\n        \"description\": \"\"\n      }\n    },\n    {\n      \"column\": \"year\",\n      \"properties\": {\n        \"dtype\": \"object\",\n        \"num_unique_values\": 6,\n        \"samples\": [\n          \"2014\",\n          \"2017\",\n          \"2000\"\n        ],\n        \"semantic_type\": \"\",\n        \"description\": \"\"\n      }\n    }\n  ]\n}"
            }
          },
          "metadata": {},
          "execution_count": 130
        }
      ]
    },
    {
      "cell_type": "code",
      "source": [
        "user_history = test[test[USER_COL] == 21][[ITEM_COL]] # user idx=0, id=21\n",
        "user_history.merge(items, left_on='item_id', right_on='id')"
      ],
      "metadata": {
        "id": "bMK0YLMuQNbt",
        "colab": {
          "base_uri": "https://localhost:8080/",
          "height": 708
        },
        "outputId": "66732164-cb63-4372-e3e0-7ba848a4e864"
      },
      "id": "bMK0YLMuQNbt",
      "execution_count": 131,
      "outputs": [
        {
          "output_type": "execute_result",
          "data": {
            "text/plain": [
              "    item_id      id                                title  \\\n",
              "0    193711  193711   История Бернарды и Тайры на Архане   \n",
              "1     32399   32399                               Спектр   \n",
              "2    155015  155015    Выиграть жизнь. Сказки из сундука   \n",
              "3    121640  121640                       Золотые костры   \n",
              "4    136668  136668                          Синее пламя   \n",
              "5     11951   11951                              Талорис   \n",
              "6    204089  204089                               Змейка   \n",
              "7    128170  128170                   Инстинкт зла. Тень   \n",
              "8     31873   31873              Инстинкт Зла. Вершитель   \n",
              "9    131575  131575           Инстинкт Зла. Возрожденная   \n",
              "10   257435  257435                    Зачем цветет лори   \n",
              "11   261889  261889                 Для кого цветет лори   \n",
              "12   303208  303208   Отражение не меня. Сердце Оххарона   \n",
              "13   192161  192161                        Проникновение   \n",
              "14   117269  117269             Ветер Севера. Риверстейн   \n",
              "15   132276  132276               Ветер Севера. Аларания   \n",
              "16   124256  124256   Королевская кровь. Сорванный венец   \n",
              "17   186710  186710     Королевская кровь. Скрытое пламя   \n",
              "18   264910  264910  Королевская кровь. Связанные судьбы   \n",
              "19   163270  163270   Королевская кровь. Темное наследие   \n",
              "20   171916  171916     Королевская кровь. Огненный путь   \n",
              "\n",
              "                                               genres            authors  \\\n",
              "0   Любовно-фантастические романы,Научная фантасти...     Вероника Мелан   \n",
              "1   Социальная фантастика,Космическая фантастика,Н...  Сергей Лукьяненко   \n",
              "2                     Этнография,Книги о путешествиях   Виталий Сундаков   \n",
              "3                  Героическое фэнтези,Боевое фэнтези      Алексей Пехов   \n",
              "4   Героическое фэнтези,Боевое фэнтези,Книги про в...      Алексей Пехов   \n",
              "5   Героическое фэнтези,Боевое фэнтези,Книги про в...      Алексей Пехов   \n",
              "6                  Героическое фэнтези,Боевое фэнтези      Алексей Пехов   \n",
              "7   Эротическое фэнтези,Городское фэнтези,Любовное...  Марина Суржевская   \n",
              "8   Эротическое фэнтези,Городское фэнтези,Любовное...  Марина Суржевская   \n",
              "9   Эротическое фэнтези,Городское фэнтези,Любовное...  Марина Суржевская   \n",
              "10               Эротическое фэнтези,Любовное фэнтези  Марина Суржевская   \n",
              "11               Эротическое фэнтези,Любовное фэнтези  Марина Суржевская   \n",
              "12                                   Любовное фэнтези  Марина Суржевская   \n",
              "13               Героическое фэнтези,Любовное фэнтези  Марина Суржевская   \n",
              "14               Героическое фэнтези,Любовное фэнтези  Марина Суржевская   \n",
              "15               Героическое фэнтези,Любовное фэнтези  Марина Суржевская   \n",
              "16  Героическое фэнтези,Книги про волшебников,Любо...       Ирина Котова   \n",
              "17               Героическое фэнтези,Любовное фэнтези       Ирина Котова   \n",
              "18  Героическое фэнтези,Книги про волшебников,Любо...       Ирина Котова   \n",
              "19               Героическое фэнтези,Любовное фэнтези       Ирина Котова   \n",
              "20               Героическое фэнтези,Любовное фэнтези       Ирина Котова   \n",
              "\n",
              "       year  \n",
              "0      2015  \n",
              "1   2001-02  \n",
              "2      2018  \n",
              "3      2012  \n",
              "4      2015  \n",
              "5      2019  \n",
              "6      2005  \n",
              "7      2017  \n",
              "8      2016  \n",
              "9      2016  \n",
              "10     2017  \n",
              "11     2018  \n",
              "12     2018  \n",
              "13     2019  \n",
              "14     2017  \n",
              "15     2018  \n",
              "16     2016  \n",
              "17     2016  \n",
              "18     2017  \n",
              "19     2018  \n",
              "20     2018  "
            ],
            "text/html": [
              "\n",
              "  <div id=\"df-6d24b77a-c1d6-4891-92b1-169f9d1c0236\" class=\"colab-df-container\">\n",
              "    <div>\n",
              "<style scoped>\n",
              "    .dataframe tbody tr th:only-of-type {\n",
              "        vertical-align: middle;\n",
              "    }\n",
              "\n",
              "    .dataframe tbody tr th {\n",
              "        vertical-align: top;\n",
              "    }\n",
              "\n",
              "    .dataframe thead th {\n",
              "        text-align: right;\n",
              "    }\n",
              "</style>\n",
              "<table border=\"1\" class=\"dataframe\">\n",
              "  <thead>\n",
              "    <tr style=\"text-align: right;\">\n",
              "      <th></th>\n",
              "      <th>item_id</th>\n",
              "      <th>id</th>\n",
              "      <th>title</th>\n",
              "      <th>genres</th>\n",
              "      <th>authors</th>\n",
              "      <th>year</th>\n",
              "    </tr>\n",
              "  </thead>\n",
              "  <tbody>\n",
              "    <tr>\n",
              "      <th>0</th>\n",
              "      <td>193711</td>\n",
              "      <td>193711</td>\n",
              "      <td>История Бернарды и Тайры на Архане</td>\n",
              "      <td>Любовно-фантастические романы,Научная фантасти...</td>\n",
              "      <td>Вероника Мелан</td>\n",
              "      <td>2015</td>\n",
              "    </tr>\n",
              "    <tr>\n",
              "      <th>1</th>\n",
              "      <td>32399</td>\n",
              "      <td>32399</td>\n",
              "      <td>Спектр</td>\n",
              "      <td>Социальная фантастика,Космическая фантастика,Н...</td>\n",
              "      <td>Сергей Лукьяненко</td>\n",
              "      <td>2001-02</td>\n",
              "    </tr>\n",
              "    <tr>\n",
              "      <th>2</th>\n",
              "      <td>155015</td>\n",
              "      <td>155015</td>\n",
              "      <td>Выиграть жизнь. Сказки из сундука</td>\n",
              "      <td>Этнография,Книги о путешествиях</td>\n",
              "      <td>Виталий Сундаков</td>\n",
              "      <td>2018</td>\n",
              "    </tr>\n",
              "    <tr>\n",
              "      <th>3</th>\n",
              "      <td>121640</td>\n",
              "      <td>121640</td>\n",
              "      <td>Золотые костры</td>\n",
              "      <td>Героическое фэнтези,Боевое фэнтези</td>\n",
              "      <td>Алексей Пехов</td>\n",
              "      <td>2012</td>\n",
              "    </tr>\n",
              "    <tr>\n",
              "      <th>4</th>\n",
              "      <td>136668</td>\n",
              "      <td>136668</td>\n",
              "      <td>Синее пламя</td>\n",
              "      <td>Героическое фэнтези,Боевое фэнтези,Книги про в...</td>\n",
              "      <td>Алексей Пехов</td>\n",
              "      <td>2015</td>\n",
              "    </tr>\n",
              "    <tr>\n",
              "      <th>5</th>\n",
              "      <td>11951</td>\n",
              "      <td>11951</td>\n",
              "      <td>Талорис</td>\n",
              "      <td>Героическое фэнтези,Боевое фэнтези,Книги про в...</td>\n",
              "      <td>Алексей Пехов</td>\n",
              "      <td>2019</td>\n",
              "    </tr>\n",
              "    <tr>\n",
              "      <th>6</th>\n",
              "      <td>204089</td>\n",
              "      <td>204089</td>\n",
              "      <td>Змейка</td>\n",
              "      <td>Героическое фэнтези,Боевое фэнтези</td>\n",
              "      <td>Алексей Пехов</td>\n",
              "      <td>2005</td>\n",
              "    </tr>\n",
              "    <tr>\n",
              "      <th>7</th>\n",
              "      <td>128170</td>\n",
              "      <td>128170</td>\n",
              "      <td>Инстинкт зла. Тень</td>\n",
              "      <td>Эротическое фэнтези,Городское фэнтези,Любовное...</td>\n",
              "      <td>Марина Суржевская</td>\n",
              "      <td>2017</td>\n",
              "    </tr>\n",
              "    <tr>\n",
              "      <th>8</th>\n",
              "      <td>31873</td>\n",
              "      <td>31873</td>\n",
              "      <td>Инстинкт Зла. Вершитель</td>\n",
              "      <td>Эротическое фэнтези,Городское фэнтези,Любовное...</td>\n",
              "      <td>Марина Суржевская</td>\n",
              "      <td>2016</td>\n",
              "    </tr>\n",
              "    <tr>\n",
              "      <th>9</th>\n",
              "      <td>131575</td>\n",
              "      <td>131575</td>\n",
              "      <td>Инстинкт Зла. Возрожденная</td>\n",
              "      <td>Эротическое фэнтези,Городское фэнтези,Любовное...</td>\n",
              "      <td>Марина Суржевская</td>\n",
              "      <td>2016</td>\n",
              "    </tr>\n",
              "    <tr>\n",
              "      <th>10</th>\n",
              "      <td>257435</td>\n",
              "      <td>257435</td>\n",
              "      <td>Зачем цветет лори</td>\n",
              "      <td>Эротическое фэнтези,Любовное фэнтези</td>\n",
              "      <td>Марина Суржевская</td>\n",
              "      <td>2017</td>\n",
              "    </tr>\n",
              "    <tr>\n",
              "      <th>11</th>\n",
              "      <td>261889</td>\n",
              "      <td>261889</td>\n",
              "      <td>Для кого цветет лори</td>\n",
              "      <td>Эротическое фэнтези,Любовное фэнтези</td>\n",
              "      <td>Марина Суржевская</td>\n",
              "      <td>2018</td>\n",
              "    </tr>\n",
              "    <tr>\n",
              "      <th>12</th>\n",
              "      <td>303208</td>\n",
              "      <td>303208</td>\n",
              "      <td>Отражение не меня. Сердце Оххарона</td>\n",
              "      <td>Любовное фэнтези</td>\n",
              "      <td>Марина Суржевская</td>\n",
              "      <td>2018</td>\n",
              "    </tr>\n",
              "    <tr>\n",
              "      <th>13</th>\n",
              "      <td>192161</td>\n",
              "      <td>192161</td>\n",
              "      <td>Проникновение</td>\n",
              "      <td>Героическое фэнтези,Любовное фэнтези</td>\n",
              "      <td>Марина Суржевская</td>\n",
              "      <td>2019</td>\n",
              "    </tr>\n",
              "    <tr>\n",
              "      <th>14</th>\n",
              "      <td>117269</td>\n",
              "      <td>117269</td>\n",
              "      <td>Ветер Севера. Риверстейн</td>\n",
              "      <td>Героическое фэнтези,Любовное фэнтези</td>\n",
              "      <td>Марина Суржевская</td>\n",
              "      <td>2017</td>\n",
              "    </tr>\n",
              "    <tr>\n",
              "      <th>15</th>\n",
              "      <td>132276</td>\n",
              "      <td>132276</td>\n",
              "      <td>Ветер Севера. Аларания</td>\n",
              "      <td>Героическое фэнтези,Любовное фэнтези</td>\n",
              "      <td>Марина Суржевская</td>\n",
              "      <td>2018</td>\n",
              "    </tr>\n",
              "    <tr>\n",
              "      <th>16</th>\n",
              "      <td>124256</td>\n",
              "      <td>124256</td>\n",
              "      <td>Королевская кровь. Сорванный венец</td>\n",
              "      <td>Героическое фэнтези,Книги про волшебников,Любо...</td>\n",
              "      <td>Ирина Котова</td>\n",
              "      <td>2016</td>\n",
              "    </tr>\n",
              "    <tr>\n",
              "      <th>17</th>\n",
              "      <td>186710</td>\n",
              "      <td>186710</td>\n",
              "      <td>Королевская кровь. Скрытое пламя</td>\n",
              "      <td>Героическое фэнтези,Любовное фэнтези</td>\n",
              "      <td>Ирина Котова</td>\n",
              "      <td>2016</td>\n",
              "    </tr>\n",
              "    <tr>\n",
              "      <th>18</th>\n",
              "      <td>264910</td>\n",
              "      <td>264910</td>\n",
              "      <td>Королевская кровь. Связанные судьбы</td>\n",
              "      <td>Героическое фэнтези,Книги про волшебников,Любо...</td>\n",
              "      <td>Ирина Котова</td>\n",
              "      <td>2017</td>\n",
              "    </tr>\n",
              "    <tr>\n",
              "      <th>19</th>\n",
              "      <td>163270</td>\n",
              "      <td>163270</td>\n",
              "      <td>Королевская кровь. Темное наследие</td>\n",
              "      <td>Героическое фэнтези,Любовное фэнтези</td>\n",
              "      <td>Ирина Котова</td>\n",
              "      <td>2018</td>\n",
              "    </tr>\n",
              "    <tr>\n",
              "      <th>20</th>\n",
              "      <td>171916</td>\n",
              "      <td>171916</td>\n",
              "      <td>Королевская кровь. Огненный путь</td>\n",
              "      <td>Героическое фэнтези,Любовное фэнтези</td>\n",
              "      <td>Ирина Котова</td>\n",
              "      <td>2018</td>\n",
              "    </tr>\n",
              "  </tbody>\n",
              "</table>\n",
              "</div>\n",
              "    <div class=\"colab-df-buttons\">\n",
              "\n",
              "  <div class=\"colab-df-container\">\n",
              "    <button class=\"colab-df-convert\" onclick=\"convertToInteractive('df-6d24b77a-c1d6-4891-92b1-169f9d1c0236')\"\n",
              "            title=\"Convert this dataframe to an interactive table.\"\n",
              "            style=\"display:none;\">\n",
              "\n",
              "  <svg xmlns=\"http://www.w3.org/2000/svg\" height=\"24px\" viewBox=\"0 -960 960 960\">\n",
              "    <path d=\"M120-120v-720h720v720H120Zm60-500h600v-160H180v160Zm220 220h160v-160H400v160Zm0 220h160v-160H400v160ZM180-400h160v-160H180v160Zm440 0h160v-160H620v160ZM180-180h160v-160H180v160Zm440 0h160v-160H620v160Z\"/>\n",
              "  </svg>\n",
              "    </button>\n",
              "\n",
              "  <style>\n",
              "    .colab-df-container {\n",
              "      display:flex;\n",
              "      gap: 12px;\n",
              "    }\n",
              "\n",
              "    .colab-df-convert {\n",
              "      background-color: #E8F0FE;\n",
              "      border: none;\n",
              "      border-radius: 50%;\n",
              "      cursor: pointer;\n",
              "      display: none;\n",
              "      fill: #1967D2;\n",
              "      height: 32px;\n",
              "      padding: 0 0 0 0;\n",
              "      width: 32px;\n",
              "    }\n",
              "\n",
              "    .colab-df-convert:hover {\n",
              "      background-color: #E2EBFA;\n",
              "      box-shadow: 0px 1px 2px rgba(60, 64, 67, 0.3), 0px 1px 3px 1px rgba(60, 64, 67, 0.15);\n",
              "      fill: #174EA6;\n",
              "    }\n",
              "\n",
              "    .colab-df-buttons div {\n",
              "      margin-bottom: 4px;\n",
              "    }\n",
              "\n",
              "    [theme=dark] .colab-df-convert {\n",
              "      background-color: #3B4455;\n",
              "      fill: #D2E3FC;\n",
              "    }\n",
              "\n",
              "    [theme=dark] .colab-df-convert:hover {\n",
              "      background-color: #434B5C;\n",
              "      box-shadow: 0px 1px 3px 1px rgba(0, 0, 0, 0.15);\n",
              "      filter: drop-shadow(0px 1px 2px rgba(0, 0, 0, 0.3));\n",
              "      fill: #FFFFFF;\n",
              "    }\n",
              "  </style>\n",
              "\n",
              "    <script>\n",
              "      const buttonEl =\n",
              "        document.querySelector('#df-6d24b77a-c1d6-4891-92b1-169f9d1c0236 button.colab-df-convert');\n",
              "      buttonEl.style.display =\n",
              "        google.colab.kernel.accessAllowed ? 'block' : 'none';\n",
              "\n",
              "      async function convertToInteractive(key) {\n",
              "        const element = document.querySelector('#df-6d24b77a-c1d6-4891-92b1-169f9d1c0236');\n",
              "        const dataTable =\n",
              "          await google.colab.kernel.invokeFunction('convertToInteractive',\n",
              "                                                    [key], {});\n",
              "        if (!dataTable) return;\n",
              "\n",
              "        const docLinkHtml = 'Like what you see? Visit the ' +\n",
              "          '<a target=\"_blank\" href=https://colab.research.google.com/notebooks/data_table.ipynb>data table notebook</a>'\n",
              "          + ' to learn more about interactive tables.';\n",
              "        element.innerHTML = '';\n",
              "        dataTable['output_type'] = 'display_data';\n",
              "        await google.colab.output.renderOutput(dataTable, element);\n",
              "        const docLink = document.createElement('div');\n",
              "        docLink.innerHTML = docLinkHtml;\n",
              "        element.appendChild(docLink);\n",
              "      }\n",
              "    </script>\n",
              "  </div>\n",
              "\n",
              "\n",
              "<div id=\"df-469f9b8c-1d38-403c-8346-780ecd2749d5\">\n",
              "  <button class=\"colab-df-quickchart\" onclick=\"quickchart('df-469f9b8c-1d38-403c-8346-780ecd2749d5')\"\n",
              "            title=\"Suggest charts\"\n",
              "            style=\"display:none;\">\n",
              "\n",
              "<svg xmlns=\"http://www.w3.org/2000/svg\" height=\"24px\"viewBox=\"0 0 24 24\"\n",
              "     width=\"24px\">\n",
              "    <g>\n",
              "        <path d=\"M19 3H5c-1.1 0-2 .9-2 2v14c0 1.1.9 2 2 2h14c1.1 0 2-.9 2-2V5c0-1.1-.9-2-2-2zM9 17H7v-7h2v7zm4 0h-2V7h2v10zm4 0h-2v-4h2v4z\"/>\n",
              "    </g>\n",
              "</svg>\n",
              "  </button>\n",
              "\n",
              "<style>\n",
              "  .colab-df-quickchart {\n",
              "      --bg-color: #E8F0FE;\n",
              "      --fill-color: #1967D2;\n",
              "      --hover-bg-color: #E2EBFA;\n",
              "      --hover-fill-color: #174EA6;\n",
              "      --disabled-fill-color: #AAA;\n",
              "      --disabled-bg-color: #DDD;\n",
              "  }\n",
              "\n",
              "  [theme=dark] .colab-df-quickchart {\n",
              "      --bg-color: #3B4455;\n",
              "      --fill-color: #D2E3FC;\n",
              "      --hover-bg-color: #434B5C;\n",
              "      --hover-fill-color: #FFFFFF;\n",
              "      --disabled-bg-color: #3B4455;\n",
              "      --disabled-fill-color: #666;\n",
              "  }\n",
              "\n",
              "  .colab-df-quickchart {\n",
              "    background-color: var(--bg-color);\n",
              "    border: none;\n",
              "    border-radius: 50%;\n",
              "    cursor: pointer;\n",
              "    display: none;\n",
              "    fill: var(--fill-color);\n",
              "    height: 32px;\n",
              "    padding: 0;\n",
              "    width: 32px;\n",
              "  }\n",
              "\n",
              "  .colab-df-quickchart:hover {\n",
              "    background-color: var(--hover-bg-color);\n",
              "    box-shadow: 0 1px 2px rgba(60, 64, 67, 0.3), 0 1px 3px 1px rgba(60, 64, 67, 0.15);\n",
              "    fill: var(--button-hover-fill-color);\n",
              "  }\n",
              "\n",
              "  .colab-df-quickchart-complete:disabled,\n",
              "  .colab-df-quickchart-complete:disabled:hover {\n",
              "    background-color: var(--disabled-bg-color);\n",
              "    fill: var(--disabled-fill-color);\n",
              "    box-shadow: none;\n",
              "  }\n",
              "\n",
              "  .colab-df-spinner {\n",
              "    border: 2px solid var(--fill-color);\n",
              "    border-color: transparent;\n",
              "    border-bottom-color: var(--fill-color);\n",
              "    animation:\n",
              "      spin 1s steps(1) infinite;\n",
              "  }\n",
              "\n",
              "  @keyframes spin {\n",
              "    0% {\n",
              "      border-color: transparent;\n",
              "      border-bottom-color: var(--fill-color);\n",
              "      border-left-color: var(--fill-color);\n",
              "    }\n",
              "    20% {\n",
              "      border-color: transparent;\n",
              "      border-left-color: var(--fill-color);\n",
              "      border-top-color: var(--fill-color);\n",
              "    }\n",
              "    30% {\n",
              "      border-color: transparent;\n",
              "      border-left-color: var(--fill-color);\n",
              "      border-top-color: var(--fill-color);\n",
              "      border-right-color: var(--fill-color);\n",
              "    }\n",
              "    40% {\n",
              "      border-color: transparent;\n",
              "      border-right-color: var(--fill-color);\n",
              "      border-top-color: var(--fill-color);\n",
              "    }\n",
              "    60% {\n",
              "      border-color: transparent;\n",
              "      border-right-color: var(--fill-color);\n",
              "    }\n",
              "    80% {\n",
              "      border-color: transparent;\n",
              "      border-right-color: var(--fill-color);\n",
              "      border-bottom-color: var(--fill-color);\n",
              "    }\n",
              "    90% {\n",
              "      border-color: transparent;\n",
              "      border-bottom-color: var(--fill-color);\n",
              "    }\n",
              "  }\n",
              "</style>\n",
              "\n",
              "  <script>\n",
              "    async function quickchart(key) {\n",
              "      const quickchartButtonEl =\n",
              "        document.querySelector('#' + key + ' button');\n",
              "      quickchartButtonEl.disabled = true;  // To prevent multiple clicks.\n",
              "      quickchartButtonEl.classList.add('colab-df-spinner');\n",
              "      try {\n",
              "        const charts = await google.colab.kernel.invokeFunction(\n",
              "            'suggestCharts', [key], {});\n",
              "      } catch (error) {\n",
              "        console.error('Error during call to suggestCharts:', error);\n",
              "      }\n",
              "      quickchartButtonEl.classList.remove('colab-df-spinner');\n",
              "      quickchartButtonEl.classList.add('colab-df-quickchart-complete');\n",
              "    }\n",
              "    (() => {\n",
              "      let quickchartButtonEl =\n",
              "        document.querySelector('#df-469f9b8c-1d38-403c-8346-780ecd2749d5 button');\n",
              "      quickchartButtonEl.style.display =\n",
              "        google.colab.kernel.accessAllowed ? 'block' : 'none';\n",
              "    })();\n",
              "  </script>\n",
              "</div>\n",
              "    </div>\n",
              "  </div>\n"
            ],
            "application/vnd.google.colaboratory.intrinsic+json": {
              "type": "dataframe",
              "summary": "{\n  \"name\": \"user_history\",\n  \"rows\": 21,\n  \"fields\": [\n    {\n      \"column\": \"item_id\",\n      \"properties\": {\n        \"dtype\": \"number\",\n        \"std\": 77024,\n        \"min\": 11951,\n        \"max\": 303208,\n        \"num_unique_values\": 21,\n        \"samples\": [\n          193711,\n          186710,\n          132276\n        ],\n        \"semantic_type\": \"\",\n        \"description\": \"\"\n      }\n    },\n    {\n      \"column\": \"id\",\n      \"properties\": {\n        \"dtype\": \"number\",\n        \"std\": 77024,\n        \"min\": 11951,\n        \"max\": 303208,\n        \"num_unique_values\": 21,\n        \"samples\": [\n          193711,\n          186710,\n          132276\n        ],\n        \"semantic_type\": \"\",\n        \"description\": \"\"\n      }\n    },\n    {\n      \"column\": \"title\",\n      \"properties\": {\n        \"dtype\": \"string\",\n        \"num_unique_values\": 21,\n        \"samples\": [\n          \"\\u0418\\u0441\\u0442\\u043e\\u0440\\u0438\\u044f \\u0411\\u0435\\u0440\\u043d\\u0430\\u0440\\u0434\\u044b \\u0438 \\u0422\\u0430\\u0439\\u0440\\u044b \\u043d\\u0430 \\u0410\\u0440\\u0445\\u0430\\u043d\\u0435\",\n          \"\\u041a\\u043e\\u0440\\u043e\\u043b\\u0435\\u0432\\u0441\\u043a\\u0430\\u044f \\u043a\\u0440\\u043e\\u0432\\u044c. \\u0421\\u043a\\u0440\\u044b\\u0442\\u043e\\u0435 \\u043f\\u043b\\u0430\\u043c\\u044f\",\n          \"\\u0412\\u0435\\u0442\\u0435\\u0440 \\u0421\\u0435\\u0432\\u0435\\u0440\\u0430. \\u0410\\u043b\\u0430\\u0440\\u0430\\u043d\\u0438\\u044f\"\n        ],\n        \"semantic_type\": \"\",\n        \"description\": \"\"\n      }\n    },\n    {\n      \"column\": \"genres\",\n      \"properties\": {\n        \"dtype\": \"string\",\n        \"num_unique_values\": 11,\n        \"samples\": [\n          \"\\u042d\\u0440\\u043e\\u0442\\u0438\\u0447\\u0435\\u0441\\u043a\\u043e\\u0435 \\u0444\\u044d\\u043d\\u0442\\u0435\\u0437\\u0438,\\u0413\\u043e\\u0440\\u043e\\u0434\\u0441\\u043a\\u043e\\u0435 \\u0444\\u044d\\u043d\\u0442\\u0435\\u0437\\u0438,\\u041b\\u044e\\u0431\\u043e\\u0432\\u043d\\u043e\\u0435 \\u0444\\u044d\\u043d\\u0442\\u0435\\u0437\\u0438\",\n          \"\\u041b\\u044e\\u0431\\u043e\\u0432\\u043d\\u043e-\\u0444\\u0430\\u043d\\u0442\\u0430\\u0441\\u0442\\u0438\\u0447\\u0435\\u0441\\u043a\\u0438\\u0435 \\u0440\\u043e\\u043c\\u0430\\u043d\\u044b,\\u041d\\u0430\\u0443\\u0447\\u043d\\u0430\\u044f \\u0444\\u0430\\u043d\\u0442\\u0430\\u0441\\u0442\\u0438\\u043a\\u0430,\\u041f\\u043e\\u043f\\u0430\\u0434\\u0430\\u043d\\u0446\\u044b\",\n          \"\\u0413\\u0435\\u0440\\u043e\\u0438\\u0447\\u0435\\u0441\\u043a\\u043e\\u0435 \\u0444\\u044d\\u043d\\u0442\\u0435\\u0437\\u0438,\\u041a\\u043d\\u0438\\u0433\\u0438 \\u043f\\u0440\\u043e \\u0432\\u043e\\u043b\\u0448\\u0435\\u0431\\u043d\\u0438\\u043a\\u043e\\u0432,\\u041b\\u044e\\u0431\\u043e\\u0432\\u043d\\u043e\\u0435 \\u0444\\u044d\\u043d\\u0442\\u0435\\u0437\\u0438\"\n        ],\n        \"semantic_type\": \"\",\n        \"description\": \"\"\n      }\n    },\n    {\n      \"column\": \"authors\",\n      \"properties\": {\n        \"dtype\": \"category\",\n        \"num_unique_values\": 6,\n        \"samples\": [\n          \"\\u0412\\u0435\\u0440\\u043e\\u043d\\u0438\\u043a\\u0430 \\u041c\\u0435\\u043b\\u0430\\u043d\",\n          \"\\u0421\\u0435\\u0440\\u0433\\u0435\\u0439 \\u041b\\u0443\\u043a\\u044c\\u044f\\u043d\\u0435\\u043d\\u043a\\u043e\",\n          \"\\u0418\\u0440\\u0438\\u043d\\u0430 \\u041a\\u043e\\u0442\\u043e\\u0432\\u0430\"\n        ],\n        \"semantic_type\": \"\",\n        \"description\": \"\"\n      }\n    },\n    {\n      \"column\": \"year\",\n      \"properties\": {\n        \"dtype\": \"category\",\n        \"num_unique_values\": 8,\n        \"samples\": [\n          \"2001-02\",\n          \"2005\",\n          \"2015\"\n        ],\n        \"semantic_type\": \"\",\n        \"description\": \"\"\n      }\n    }\n  ]\n}"
            }
          },
          "metadata": {},
          "execution_count": 131
        }
      ]
    },
    {
      "cell_type": "code",
      "source": [],
      "metadata": {
        "id": "U_bwaJm5Uynf"
      },
      "id": "U_bwaJm5Uynf",
      "execution_count": null,
      "outputs": []
    }
  ],
  "metadata": {
    "colab": {
      "provenance": []
    },
    "kernelspec": {
      "display_name": "Python 3 (ipykernel)",
      "language": "python",
      "name": "python3"
    },
    "language_info": {
      "codemirror_mode": {
        "name": "ipython",
        "version": 3
      },
      "file_extension": ".py",
      "mimetype": "text/x-python",
      "name": "python",
      "nbconvert_exporter": "python",
      "pygments_lexer": "ipython3",
      "version": "3.9.7"
    },
    "widgets": {
      "application/vnd.jupyter.widget-state+json": {
        "8e05c1dd4acb4020ac708f529554fd8c": {
          "model_module": "@jupyter-widgets/controls",
          "model_name": "HBoxModel",
          "model_module_version": "1.5.0",
          "state": {
            "_dom_classes": [],
            "_model_module": "@jupyter-widgets/controls",
            "_model_module_version": "1.5.0",
            "_model_name": "HBoxModel",
            "_view_count": null,
            "_view_module": "@jupyter-widgets/controls",
            "_view_module_version": "1.5.0",
            "_view_name": "HBoxView",
            "box_style": "",
            "children": [
              "IPY_MODEL_c5f6cc4a628848b9b3bffb1c8eab948d",
              "IPY_MODEL_1dea377723424f10be385bf64914161a",
              "IPY_MODEL_fc71016658a64abaa40a061917616465"
            ],
            "layout": "IPY_MODEL_5cf90f9f6b9f4520ae32900227371e7e"
          }
        },
        "c5f6cc4a628848b9b3bffb1c8eab948d": {
          "model_module": "@jupyter-widgets/controls",
          "model_name": "HTMLModel",
          "model_module_version": "1.5.0",
          "state": {
            "_dom_classes": [],
            "_model_module": "@jupyter-widgets/controls",
            "_model_module_version": "1.5.0",
            "_model_name": "HTMLModel",
            "_view_count": null,
            "_view_module": "@jupyter-widgets/controls",
            "_view_module_version": "1.5.0",
            "_view_name": "HTMLView",
            "description": "",
            "description_tooltip": null,
            "layout": "IPY_MODEL_d42a291c402e480291556dee2a68bf8e",
            "placeholder": "​",
            "style": "IPY_MODEL_7cb6339a73f24f98945559f62cb1a563",
            "value": "100%"
          }
        },
        "1dea377723424f10be385bf64914161a": {
          "model_module": "@jupyter-widgets/controls",
          "model_name": "FloatProgressModel",
          "model_module_version": "1.5.0",
          "state": {
            "_dom_classes": [],
            "_model_module": "@jupyter-widgets/controls",
            "_model_module_version": "1.5.0",
            "_model_name": "FloatProgressModel",
            "_view_count": null,
            "_view_module": "@jupyter-widgets/controls",
            "_view_module_version": "1.5.0",
            "_view_name": "ProgressView",
            "bar_style": "success",
            "description": "",
            "description_tooltip": null,
            "layout": "IPY_MODEL_08cad42d1b524804852e86a2345b6ee6",
            "max": 50,
            "min": 0,
            "orientation": "horizontal",
            "style": "IPY_MODEL_1c0671150eb346298a071f4e4f509e28",
            "value": 50
          }
        },
        "fc71016658a64abaa40a061917616465": {
          "model_module": "@jupyter-widgets/controls",
          "model_name": "HTMLModel",
          "model_module_version": "1.5.0",
          "state": {
            "_dom_classes": [],
            "_model_module": "@jupyter-widgets/controls",
            "_model_module_version": "1.5.0",
            "_model_name": "HTMLModel",
            "_view_count": null,
            "_view_module": "@jupyter-widgets/controls",
            "_view_module_version": "1.5.0",
            "_view_name": "HTMLView",
            "description": "",
            "description_tooltip": null,
            "layout": "IPY_MODEL_64d53f9863a04a7b8ed7f52c96da0acf",
            "placeholder": "​",
            "style": "IPY_MODEL_daa0e1868e8b46559a4b42e27c65dab2",
            "value": " 50/50 [03:00&lt;00:00,  3.29s/it]"
          }
        },
        "5cf90f9f6b9f4520ae32900227371e7e": {
          "model_module": "@jupyter-widgets/base",
          "model_name": "LayoutModel",
          "model_module_version": "1.2.0",
          "state": {
            "_model_module": "@jupyter-widgets/base",
            "_model_module_version": "1.2.0",
            "_model_name": "LayoutModel",
            "_view_count": null,
            "_view_module": "@jupyter-widgets/base",
            "_view_module_version": "1.2.0",
            "_view_name": "LayoutView",
            "align_content": null,
            "align_items": null,
            "align_self": null,
            "border": null,
            "bottom": null,
            "display": null,
            "flex": null,
            "flex_flow": null,
            "grid_area": null,
            "grid_auto_columns": null,
            "grid_auto_flow": null,
            "grid_auto_rows": null,
            "grid_column": null,
            "grid_gap": null,
            "grid_row": null,
            "grid_template_areas": null,
            "grid_template_columns": null,
            "grid_template_rows": null,
            "height": null,
            "justify_content": null,
            "justify_items": null,
            "left": null,
            "margin": null,
            "max_height": null,
            "max_width": null,
            "min_height": null,
            "min_width": null,
            "object_fit": null,
            "object_position": null,
            "order": null,
            "overflow": null,
            "overflow_x": null,
            "overflow_y": null,
            "padding": null,
            "right": null,
            "top": null,
            "visibility": null,
            "width": null
          }
        },
        "d42a291c402e480291556dee2a68bf8e": {
          "model_module": "@jupyter-widgets/base",
          "model_name": "LayoutModel",
          "model_module_version": "1.2.0",
          "state": {
            "_model_module": "@jupyter-widgets/base",
            "_model_module_version": "1.2.0",
            "_model_name": "LayoutModel",
            "_view_count": null,
            "_view_module": "@jupyter-widgets/base",
            "_view_module_version": "1.2.0",
            "_view_name": "LayoutView",
            "align_content": null,
            "align_items": null,
            "align_self": null,
            "border": null,
            "bottom": null,
            "display": null,
            "flex": null,
            "flex_flow": null,
            "grid_area": null,
            "grid_auto_columns": null,
            "grid_auto_flow": null,
            "grid_auto_rows": null,
            "grid_column": null,
            "grid_gap": null,
            "grid_row": null,
            "grid_template_areas": null,
            "grid_template_columns": null,
            "grid_template_rows": null,
            "height": null,
            "justify_content": null,
            "justify_items": null,
            "left": null,
            "margin": null,
            "max_height": null,
            "max_width": null,
            "min_height": null,
            "min_width": null,
            "object_fit": null,
            "object_position": null,
            "order": null,
            "overflow": null,
            "overflow_x": null,
            "overflow_y": null,
            "padding": null,
            "right": null,
            "top": null,
            "visibility": null,
            "width": null
          }
        },
        "7cb6339a73f24f98945559f62cb1a563": {
          "model_module": "@jupyter-widgets/controls",
          "model_name": "DescriptionStyleModel",
          "model_module_version": "1.5.0",
          "state": {
            "_model_module": "@jupyter-widgets/controls",
            "_model_module_version": "1.5.0",
            "_model_name": "DescriptionStyleModel",
            "_view_count": null,
            "_view_module": "@jupyter-widgets/base",
            "_view_module_version": "1.2.0",
            "_view_name": "StyleView",
            "description_width": ""
          }
        },
        "08cad42d1b524804852e86a2345b6ee6": {
          "model_module": "@jupyter-widgets/base",
          "model_name": "LayoutModel",
          "model_module_version": "1.2.0",
          "state": {
            "_model_module": "@jupyter-widgets/base",
            "_model_module_version": "1.2.0",
            "_model_name": "LayoutModel",
            "_view_count": null,
            "_view_module": "@jupyter-widgets/base",
            "_view_module_version": "1.2.0",
            "_view_name": "LayoutView",
            "align_content": null,
            "align_items": null,
            "align_self": null,
            "border": null,
            "bottom": null,
            "display": null,
            "flex": null,
            "flex_flow": null,
            "grid_area": null,
            "grid_auto_columns": null,
            "grid_auto_flow": null,
            "grid_auto_rows": null,
            "grid_column": null,
            "grid_gap": null,
            "grid_row": null,
            "grid_template_areas": null,
            "grid_template_columns": null,
            "grid_template_rows": null,
            "height": null,
            "justify_content": null,
            "justify_items": null,
            "left": null,
            "margin": null,
            "max_height": null,
            "max_width": null,
            "min_height": null,
            "min_width": null,
            "object_fit": null,
            "object_position": null,
            "order": null,
            "overflow": null,
            "overflow_x": null,
            "overflow_y": null,
            "padding": null,
            "right": null,
            "top": null,
            "visibility": null,
            "width": null
          }
        },
        "1c0671150eb346298a071f4e4f509e28": {
          "model_module": "@jupyter-widgets/controls",
          "model_name": "ProgressStyleModel",
          "model_module_version": "1.5.0",
          "state": {
            "_model_module": "@jupyter-widgets/controls",
            "_model_module_version": "1.5.0",
            "_model_name": "ProgressStyleModel",
            "_view_count": null,
            "_view_module": "@jupyter-widgets/base",
            "_view_module_version": "1.2.0",
            "_view_name": "StyleView",
            "bar_color": null,
            "description_width": ""
          }
        },
        "64d53f9863a04a7b8ed7f52c96da0acf": {
          "model_module": "@jupyter-widgets/base",
          "model_name": "LayoutModel",
          "model_module_version": "1.2.0",
          "state": {
            "_model_module": "@jupyter-widgets/base",
            "_model_module_version": "1.2.0",
            "_model_name": "LayoutModel",
            "_view_count": null,
            "_view_module": "@jupyter-widgets/base",
            "_view_module_version": "1.2.0",
            "_view_name": "LayoutView",
            "align_content": null,
            "align_items": null,
            "align_self": null,
            "border": null,
            "bottom": null,
            "display": null,
            "flex": null,
            "flex_flow": null,
            "grid_area": null,
            "grid_auto_columns": null,
            "grid_auto_flow": null,
            "grid_auto_rows": null,
            "grid_column": null,
            "grid_gap": null,
            "grid_row": null,
            "grid_template_areas": null,
            "grid_template_columns": null,
            "grid_template_rows": null,
            "height": null,
            "justify_content": null,
            "justify_items": null,
            "left": null,
            "margin": null,
            "max_height": null,
            "max_width": null,
            "min_height": null,
            "min_width": null,
            "object_fit": null,
            "object_position": null,
            "order": null,
            "overflow": null,
            "overflow_x": null,
            "overflow_y": null,
            "padding": null,
            "right": null,
            "top": null,
            "visibility": null,
            "width": null
          }
        },
        "daa0e1868e8b46559a4b42e27c65dab2": {
          "model_module": "@jupyter-widgets/controls",
          "model_name": "DescriptionStyleModel",
          "model_module_version": "1.5.0",
          "state": {
            "_model_module": "@jupyter-widgets/controls",
            "_model_module_version": "1.5.0",
            "_model_name": "DescriptionStyleModel",
            "_view_count": null,
            "_view_module": "@jupyter-widgets/base",
            "_view_module_version": "1.2.0",
            "_view_name": "StyleView",
            "description_width": ""
          }
        },
        "7b99536b054a41918f66b0d65c0cb25a": {
          "model_module": "@jupyter-widgets/controls",
          "model_name": "HBoxModel",
          "model_module_version": "1.5.0",
          "state": {
            "_dom_classes": [],
            "_model_module": "@jupyter-widgets/controls",
            "_model_module_version": "1.5.0",
            "_model_name": "HBoxModel",
            "_view_count": null,
            "_view_module": "@jupyter-widgets/controls",
            "_view_module_version": "1.5.0",
            "_view_name": "HBoxView",
            "box_style": "",
            "children": [
              "IPY_MODEL_2bde30143a7644d2a06bbb88fc9ab0d6",
              "IPY_MODEL_da3505fbdfb64a7496be6d48c6ec432d",
              "IPY_MODEL_fcc44683799442aab868d31248431f14"
            ],
            "layout": "IPY_MODEL_9cc4462f33844e67b405aa5831192d8e"
          }
        },
        "2bde30143a7644d2a06bbb88fc9ab0d6": {
          "model_module": "@jupyter-widgets/controls",
          "model_name": "HTMLModel",
          "model_module_version": "1.5.0",
          "state": {
            "_dom_classes": [],
            "_model_module": "@jupyter-widgets/controls",
            "_model_module_version": "1.5.0",
            "_model_name": "HTMLModel",
            "_view_count": null,
            "_view_module": "@jupyter-widgets/controls",
            "_view_module_version": "1.5.0",
            "_view_name": "HTMLView",
            "description": "",
            "description_tooltip": null,
            "layout": "IPY_MODEL_ba4fd2f84c894a0caf944d2fe4b8099d",
            "placeholder": "​",
            "style": "IPY_MODEL_0a2714d93c0444d0a40b6af00e04893e",
            "value": "100%"
          }
        },
        "da3505fbdfb64a7496be6d48c6ec432d": {
          "model_module": "@jupyter-widgets/controls",
          "model_name": "FloatProgressModel",
          "model_module_version": "1.5.0",
          "state": {
            "_dom_classes": [],
            "_model_module": "@jupyter-widgets/controls",
            "_model_module_version": "1.5.0",
            "_model_name": "FloatProgressModel",
            "_view_count": null,
            "_view_module": "@jupyter-widgets/controls",
            "_view_module_version": "1.5.0",
            "_view_name": "ProgressView",
            "bar_style": "success",
            "description": "",
            "description_tooltip": null,
            "layout": "IPY_MODEL_fb73d6a09dee40c395f9afbe710aa4f2",
            "max": 50,
            "min": 0,
            "orientation": "horizontal",
            "style": "IPY_MODEL_2a850bd5ca4f4262a24f7d66e1664b9d",
            "value": 50
          }
        },
        "fcc44683799442aab868d31248431f14": {
          "model_module": "@jupyter-widgets/controls",
          "model_name": "HTMLModel",
          "model_module_version": "1.5.0",
          "state": {
            "_dom_classes": [],
            "_model_module": "@jupyter-widgets/controls",
            "_model_module_version": "1.5.0",
            "_model_name": "HTMLModel",
            "_view_count": null,
            "_view_module": "@jupyter-widgets/controls",
            "_view_module_version": "1.5.0",
            "_view_name": "HTMLView",
            "description": "",
            "description_tooltip": null,
            "layout": "IPY_MODEL_60adfdf5284f40ac89581ed46c4c7cd0",
            "placeholder": "​",
            "style": "IPY_MODEL_142d27439d124d9082a46dc2463e4efc",
            "value": " 50/50 [01:04&lt;00:00,  1.53s/it]"
          }
        },
        "9cc4462f33844e67b405aa5831192d8e": {
          "model_module": "@jupyter-widgets/base",
          "model_name": "LayoutModel",
          "model_module_version": "1.2.0",
          "state": {
            "_model_module": "@jupyter-widgets/base",
            "_model_module_version": "1.2.0",
            "_model_name": "LayoutModel",
            "_view_count": null,
            "_view_module": "@jupyter-widgets/base",
            "_view_module_version": "1.2.0",
            "_view_name": "LayoutView",
            "align_content": null,
            "align_items": null,
            "align_self": null,
            "border": null,
            "bottom": null,
            "display": null,
            "flex": null,
            "flex_flow": null,
            "grid_area": null,
            "grid_auto_columns": null,
            "grid_auto_flow": null,
            "grid_auto_rows": null,
            "grid_column": null,
            "grid_gap": null,
            "grid_row": null,
            "grid_template_areas": null,
            "grid_template_columns": null,
            "grid_template_rows": null,
            "height": null,
            "justify_content": null,
            "justify_items": null,
            "left": null,
            "margin": null,
            "max_height": null,
            "max_width": null,
            "min_height": null,
            "min_width": null,
            "object_fit": null,
            "object_position": null,
            "order": null,
            "overflow": null,
            "overflow_x": null,
            "overflow_y": null,
            "padding": null,
            "right": null,
            "top": null,
            "visibility": null,
            "width": null
          }
        },
        "ba4fd2f84c894a0caf944d2fe4b8099d": {
          "model_module": "@jupyter-widgets/base",
          "model_name": "LayoutModel",
          "model_module_version": "1.2.0",
          "state": {
            "_model_module": "@jupyter-widgets/base",
            "_model_module_version": "1.2.0",
            "_model_name": "LayoutModel",
            "_view_count": null,
            "_view_module": "@jupyter-widgets/base",
            "_view_module_version": "1.2.0",
            "_view_name": "LayoutView",
            "align_content": null,
            "align_items": null,
            "align_self": null,
            "border": null,
            "bottom": null,
            "display": null,
            "flex": null,
            "flex_flow": null,
            "grid_area": null,
            "grid_auto_columns": null,
            "grid_auto_flow": null,
            "grid_auto_rows": null,
            "grid_column": null,
            "grid_gap": null,
            "grid_row": null,
            "grid_template_areas": null,
            "grid_template_columns": null,
            "grid_template_rows": null,
            "height": null,
            "justify_content": null,
            "justify_items": null,
            "left": null,
            "margin": null,
            "max_height": null,
            "max_width": null,
            "min_height": null,
            "min_width": null,
            "object_fit": null,
            "object_position": null,
            "order": null,
            "overflow": null,
            "overflow_x": null,
            "overflow_y": null,
            "padding": null,
            "right": null,
            "top": null,
            "visibility": null,
            "width": null
          }
        },
        "0a2714d93c0444d0a40b6af00e04893e": {
          "model_module": "@jupyter-widgets/controls",
          "model_name": "DescriptionStyleModel",
          "model_module_version": "1.5.0",
          "state": {
            "_model_module": "@jupyter-widgets/controls",
            "_model_module_version": "1.5.0",
            "_model_name": "DescriptionStyleModel",
            "_view_count": null,
            "_view_module": "@jupyter-widgets/base",
            "_view_module_version": "1.2.0",
            "_view_name": "StyleView",
            "description_width": ""
          }
        },
        "fb73d6a09dee40c395f9afbe710aa4f2": {
          "model_module": "@jupyter-widgets/base",
          "model_name": "LayoutModel",
          "model_module_version": "1.2.0",
          "state": {
            "_model_module": "@jupyter-widgets/base",
            "_model_module_version": "1.2.0",
            "_model_name": "LayoutModel",
            "_view_count": null,
            "_view_module": "@jupyter-widgets/base",
            "_view_module_version": "1.2.0",
            "_view_name": "LayoutView",
            "align_content": null,
            "align_items": null,
            "align_self": null,
            "border": null,
            "bottom": null,
            "display": null,
            "flex": null,
            "flex_flow": null,
            "grid_area": null,
            "grid_auto_columns": null,
            "grid_auto_flow": null,
            "grid_auto_rows": null,
            "grid_column": null,
            "grid_gap": null,
            "grid_row": null,
            "grid_template_areas": null,
            "grid_template_columns": null,
            "grid_template_rows": null,
            "height": null,
            "justify_content": null,
            "justify_items": null,
            "left": null,
            "margin": null,
            "max_height": null,
            "max_width": null,
            "min_height": null,
            "min_width": null,
            "object_fit": null,
            "object_position": null,
            "order": null,
            "overflow": null,
            "overflow_x": null,
            "overflow_y": null,
            "padding": null,
            "right": null,
            "top": null,
            "visibility": null,
            "width": null
          }
        },
        "2a850bd5ca4f4262a24f7d66e1664b9d": {
          "model_module": "@jupyter-widgets/controls",
          "model_name": "ProgressStyleModel",
          "model_module_version": "1.5.0",
          "state": {
            "_model_module": "@jupyter-widgets/controls",
            "_model_module_version": "1.5.0",
            "_model_name": "ProgressStyleModel",
            "_view_count": null,
            "_view_module": "@jupyter-widgets/base",
            "_view_module_version": "1.2.0",
            "_view_name": "StyleView",
            "bar_color": null,
            "description_width": ""
          }
        },
        "60adfdf5284f40ac89581ed46c4c7cd0": {
          "model_module": "@jupyter-widgets/base",
          "model_name": "LayoutModel",
          "model_module_version": "1.2.0",
          "state": {
            "_model_module": "@jupyter-widgets/base",
            "_model_module_version": "1.2.0",
            "_model_name": "LayoutModel",
            "_view_count": null,
            "_view_module": "@jupyter-widgets/base",
            "_view_module_version": "1.2.0",
            "_view_name": "LayoutView",
            "align_content": null,
            "align_items": null,
            "align_self": null,
            "border": null,
            "bottom": null,
            "display": null,
            "flex": null,
            "flex_flow": null,
            "grid_area": null,
            "grid_auto_columns": null,
            "grid_auto_flow": null,
            "grid_auto_rows": null,
            "grid_column": null,
            "grid_gap": null,
            "grid_row": null,
            "grid_template_areas": null,
            "grid_template_columns": null,
            "grid_template_rows": null,
            "height": null,
            "justify_content": null,
            "justify_items": null,
            "left": null,
            "margin": null,
            "max_height": null,
            "max_width": null,
            "min_height": null,
            "min_width": null,
            "object_fit": null,
            "object_position": null,
            "order": null,
            "overflow": null,
            "overflow_x": null,
            "overflow_y": null,
            "padding": null,
            "right": null,
            "top": null,
            "visibility": null,
            "width": null
          }
        },
        "142d27439d124d9082a46dc2463e4efc": {
          "model_module": "@jupyter-widgets/controls",
          "model_name": "DescriptionStyleModel",
          "model_module_version": "1.5.0",
          "state": {
            "_model_module": "@jupyter-widgets/controls",
            "_model_module_version": "1.5.0",
            "_model_name": "DescriptionStyleModel",
            "_view_count": null,
            "_view_module": "@jupyter-widgets/base",
            "_view_module_version": "1.2.0",
            "_view_name": "StyleView",
            "description_width": ""
          }
        }
      }
    }
  },
  "nbformat": 4,
  "nbformat_minor": 5
}