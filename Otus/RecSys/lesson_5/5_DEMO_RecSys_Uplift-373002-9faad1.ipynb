{
 "cells": [
  {
   "cell_type": "markdown",
   "metadata": {
    "id": "RxgD1bLv3QGc"
   },
   "source": [
    "# Обзор базовых подходов к решению задачи Uplift Моделирования"
   ]
  },
  {
   "cell_type": "code",
   "execution_count": 1,
   "metadata": {
    "colab": {
     "base_uri": "https://localhost:8080/"
    },
    "id": "AHmAJ9xhS_hC",
    "outputId": "b23e0480-6641-4212-ff31-2fded4c71700"
   },
   "outputs": [],
   "source": [
    "# from google.colab import drive\n",
    "# drive.mount('/content/drive')"
   ]
  },
  {
   "cell_type": "markdown",
   "metadata": {
    "id": "45Q0Xrmq3QGu"
   },
   "source": [
    "## Содержание\n",
    "\n",
    "* [Введение](#Введение)\n",
    "* [1. Подходы с одной моделью](#1.-Подходы-с-одной-моделью)\n",
    "    * [1.1 Одна модель](#1.1-Одна-модель-с-признаком-коммуникации)\n",
    "    * [1.2 Трансформация классов](#1.2-Трансформация-классов)\n",
    "* [2. Подходы с двумя моделями](#2.-Подходы-с-двумя-моделями)\n",
    "    * [2.1 Две независимые модели](#2.1-Две-независимые-модели)\n",
    "    * [2.2 Две зависимые модели](#2.3-Две-зависимые-модели)\n",
    "* [Заключение](#Заключение)\n"
   ]
  },
  {
   "cell_type": "markdown",
   "metadata": {
    "id": "EcQ4M8CBOUVF"
   },
   "source": [
    "https://www.uplift-modeling.com/en/latest/install.html"
   ]
  },
  {
   "cell_type": "code",
   "execution_count": 2,
   "metadata": {
    "colab": {
     "base_uri": "https://localhost:8080/"
    },
    "id": "sy1kZGQWKkRX",
    "outputId": "c33a299a-7f56-4531-f66a-376ba72dc8a9"
   },
   "outputs": [],
   "source": [
    "# import sys\n",
    "# !{sys.executable} -m pip install scikit-uplift==0.5.1 catboost pandas==1.3.5"
   ]
  },
  {
   "cell_type": "code",
   "execution_count": 3,
   "metadata": {
    "id": "yRRmiRm4KkRY"
   },
   "outputs": [],
   "source": [
    "from sklearn.model_selection import train_test_split\n",
    "from sklearn.model_selection import StratifiedKFold\n",
    "\n",
    "from sklift.datasets import fetch_x5\n",
    "from sklift.metrics import uplift_at_k\n",
    "from catboost import CatBoostClassifier\n",
    "import pandas as pd\n",
    "import numpy as np"
   ]
  },
  {
   "cell_type": "code",
   "execution_count": 4,
   "metadata": {
    "id": "zvB9_irsMUu7"
   },
   "outputs": [],
   "source": [
    "random_state = 47\n",
    "k = 0.1"
   ]
  },
  {
   "cell_type": "code",
   "execution_count": 5,
   "metadata": {
    "colab": {
     "base_uri": "https://localhost:8080/"
    },
    "id": "gL4L0c-MKkRZ",
    "outputId": "fe152020-e22e-4fe2-f624-976e7d91785a"
   },
   "outputs": [
    {
     "name": "stdout",
     "output_type": "stream",
     "text": [
      "(200039, 5) (200039, 3)\n"
     ]
    }
   ],
   "source": [
    "df_clients = pd.read_csv('fetch_x5_clients.csv')\n",
    "df_train = pd.read_csv('fetch_x5_train.csv')\n",
    "\n",
    "# df_clients = pd.read_csv('/content/drive/MyDrive/Colab Notebooks/OTUS/fetch_x5_clients.csv')\n",
    "# df_train = pd.read_csv('/content/drive/MyDrive/Colab Notebooks/OTUS/fetch_x5_train.csv')\n",
    "\n",
    "# df_clients содержит данные для обучения и теста, мы оставим только для обучения\n",
    "# это необходимо, потому что будем замерять качество, а на тестовом семпле таргет  не дан\n",
    "df_clients = df_clients[df_clients['client_id'].isin(df_train['client_id'])]\n",
    "print(df_clients.shape, df_train.shape)"
   ]
  },
  {
   "cell_type": "code",
   "execution_count": 6,
   "metadata": {
    "colab": {
     "base_uri": "https://localhost:8080/",
     "height": 111
    },
    "id": "Sz9Hp0deImNc",
    "outputId": "3fa95f6a-5d1a-4a2c-d69b-624d98693f58"
   },
   "outputs": [
    {
     "data": {
      "text/html": [
       "<div>\n",
       "<style scoped>\n",
       "    .dataframe tbody tr th:only-of-type {\n",
       "        vertical-align: middle;\n",
       "    }\n",
       "\n",
       "    .dataframe tbody tr th {\n",
       "        vertical-align: top;\n",
       "    }\n",
       "\n",
       "    .dataframe thead th {\n",
       "        text-align: right;\n",
       "    }\n",
       "</style>\n",
       "<table border=\"1\" class=\"dataframe\">\n",
       "  <thead>\n",
       "    <tr style=\"text-align: right;\">\n",
       "      <th></th>\n",
       "      <th>client_id</th>\n",
       "      <th>first_issue_date</th>\n",
       "      <th>first_redeem_date</th>\n",
       "      <th>age</th>\n",
       "      <th>gender</th>\n",
       "    </tr>\n",
       "  </thead>\n",
       "  <tbody>\n",
       "    <tr>\n",
       "      <th>0</th>\n",
       "      <td>000012768d</td>\n",
       "      <td>2017-08-05 15:40:48</td>\n",
       "      <td>2018-01-04 19:30:07</td>\n",
       "      <td>45</td>\n",
       "      <td>U</td>\n",
       "    </tr>\n",
       "    <tr>\n",
       "      <th>1</th>\n",
       "      <td>000036f903</td>\n",
       "      <td>2017-04-10 13:54:23</td>\n",
       "      <td>2017-04-23 12:37:56</td>\n",
       "      <td>72</td>\n",
       "      <td>F</td>\n",
       "    </tr>\n",
       "  </tbody>\n",
       "</table>\n",
       "</div>"
      ],
      "text/plain": [
       "    client_id     first_issue_date    first_redeem_date  age gender\n",
       "0  000012768d  2017-08-05 15:40:48  2018-01-04 19:30:07   45      U\n",
       "1  000036f903  2017-04-10 13:54:23  2017-04-23 12:37:56   72      F"
      ]
     },
     "execution_count": 6,
     "metadata": {},
     "output_type": "execute_result"
    }
   ],
   "source": [
    "df_clients.head(2)"
   ]
  },
  {
   "cell_type": "code",
   "execution_count": 7,
   "metadata": {
    "colab": {
     "base_uri": "https://localhost:8080/",
     "height": 111
    },
    "id": "9k5guUIYIn3L",
    "outputId": "6311c5c1-7d63-4ef0-8a08-74a15d26ec0e"
   },
   "outputs": [
    {
     "data": {
      "text/html": [
       "<div>\n",
       "<style scoped>\n",
       "    .dataframe tbody tr th:only-of-type {\n",
       "        vertical-align: middle;\n",
       "    }\n",
       "\n",
       "    .dataframe tbody tr th {\n",
       "        vertical-align: top;\n",
       "    }\n",
       "\n",
       "    .dataframe thead th {\n",
       "        text-align: right;\n",
       "    }\n",
       "</style>\n",
       "<table border=\"1\" class=\"dataframe\">\n",
       "  <thead>\n",
       "    <tr style=\"text-align: right;\">\n",
       "      <th></th>\n",
       "      <th>client_id</th>\n",
       "      <th>treatment_flg</th>\n",
       "      <th>target</th>\n",
       "    </tr>\n",
       "  </thead>\n",
       "  <tbody>\n",
       "    <tr>\n",
       "      <th>0</th>\n",
       "      <td>000012768d</td>\n",
       "      <td>0</td>\n",
       "      <td>1</td>\n",
       "    </tr>\n",
       "    <tr>\n",
       "      <th>1</th>\n",
       "      <td>000036f903</td>\n",
       "      <td>1</td>\n",
       "      <td>1</td>\n",
       "    </tr>\n",
       "  </tbody>\n",
       "</table>\n",
       "</div>"
      ],
      "text/plain": [
       "    client_id  treatment_flg  target\n",
       "0  000012768d              0       1\n",
       "1  000036f903              1       1"
      ]
     },
     "execution_count": 7,
     "metadata": {},
     "output_type": "execute_result"
    }
   ],
   "source": [
    "df_train.head(2)"
   ]
  },
  {
   "cell_type": "code",
   "execution_count": 8,
   "metadata": {
    "colab": {
     "base_uri": "https://localhost:8080/"
    },
    "id": "UmFVN0WcQty8",
    "outputId": "bcfec041-540a-45cf-8473-8e77b8a38687"
   },
   "outputs": [
    {
     "name": "stdout",
     "output_type": "stream",
     "text": [
      "Dataset features shape: (200039, 5)\n",
      "Dataset train shape: (200039, 3)\n",
      "Dataset target mean: 0.6198891216212838\n",
      "Dataset treatment mean: 0.4998075375301816\n"
     ]
    }
   ],
   "source": [
    "print(f\"Dataset features shape: {df_clients.shape}\")\n",
    "print(f\"Dataset train shape: {df_train.shape}\")\n",
    "print(f\"Dataset target mean: {df_train.target.mean()}\")\n",
    "print(f\"Dataset treatment mean: {df_train.treatment_flg.mean()}\")"
   ]
  },
  {
   "cell_type": "code",
   "execution_count": 9,
   "metadata": {
    "id": "ylVJV4iWLqw6"
   },
   "outputs": [],
   "source": [
    "df_clients = df_clients.set_index('client_id')\n",
    "df_train = df_train.set_index('client_id')"
   ]
  },
  {
   "cell_type": "code",
   "execution_count": 10,
   "metadata": {
    "id": "eAD05clgN52X"
   },
   "outputs": [],
   "source": [
    "cat_features = ['gender']\n",
    "\n",
    "df_clients[cat_features] = df_clients[cat_features].astype('category')"
   ]
  },
  {
   "cell_type": "code",
   "execution_count": 11,
   "metadata": {
    "colab": {
     "base_uri": "https://localhost:8080/",
     "height": 142
    },
    "id": "x56jWhYsKkRa",
    "outputId": "d43a5650-0483-4d5e-fec4-803b6dcdb7c6"
   },
   "outputs": [
    {
     "data": {
      "text/html": [
       "<div>\n",
       "<style scoped>\n",
       "    .dataframe tbody tr th:only-of-type {\n",
       "        vertical-align: middle;\n",
       "    }\n",
       "\n",
       "    .dataframe tbody tr th {\n",
       "        vertical-align: top;\n",
       "    }\n",
       "\n",
       "    .dataframe thead th {\n",
       "        text-align: right;\n",
       "    }\n",
       "</style>\n",
       "<table border=\"1\" class=\"dataframe\">\n",
       "  <thead>\n",
       "    <tr style=\"text-align: right;\">\n",
       "      <th></th>\n",
       "      <th>age</th>\n",
       "      <th>gender</th>\n",
       "      <th>first_issue_time</th>\n",
       "      <th>first_redeem_time</th>\n",
       "      <th>issue_redeem_delay</th>\n",
       "    </tr>\n",
       "    <tr>\n",
       "      <th>client_id</th>\n",
       "      <th></th>\n",
       "      <th></th>\n",
       "      <th></th>\n",
       "      <th></th>\n",
       "      <th></th>\n",
       "    </tr>\n",
       "  </thead>\n",
       "  <tbody>\n",
       "    <tr>\n",
       "      <th>000012768d</th>\n",
       "      <td>45</td>\n",
       "      <td>U</td>\n",
       "      <td>1501947648</td>\n",
       "      <td>1.515094e+09</td>\n",
       "      <td>13146559.0</td>\n",
       "    </tr>\n",
       "    <tr>\n",
       "      <th>000036f903</th>\n",
       "      <td>72</td>\n",
       "      <td>F</td>\n",
       "      <td>1491832463</td>\n",
       "      <td>1.492951e+09</td>\n",
       "      <td>1118613.0</td>\n",
       "    </tr>\n",
       "  </tbody>\n",
       "</table>\n",
       "</div>"
      ],
      "text/plain": [
       "            age gender  first_issue_time  first_redeem_time  \\\n",
       "client_id                                                     \n",
       "000012768d   45      U        1501947648       1.515094e+09   \n",
       "000036f903   72      F        1491832463       1.492951e+09   \n",
       "\n",
       "            issue_redeem_delay  \n",
       "client_id                       \n",
       "000012768d          13146559.0  \n",
       "000036f903           1118613.0  "
      ]
     },
     "execution_count": 11,
     "metadata": {},
     "output_type": "execute_result"
    }
   ],
   "source": [
    "# Извлечение признаков\n",
    "df_features = df_clients.copy()\n",
    "df_features['first_issue_time'] = (pd.to_datetime(df_features['first_issue_date'])- pd.Timestamp('1970-01-01')) // pd.Timedelta('1s')\n",
    "df_features['first_redeem_time'] = (pd.to_datetime(df_features['first_redeem_date']) - pd.Timestamp('1970-01-01')) // pd.Timedelta('1s')\n",
    "df_features['issue_redeem_delay'] = df_features['first_redeem_time'] - df_features['first_issue_time']\n",
    "df_features = df_features.drop(['first_issue_date', 'first_redeem_date'], axis=1)\n",
    "\n",
    "df_features.head(2)"
   ]
  },
  {
   "cell_type": "code",
   "execution_count": 12,
   "metadata": {
    "ExecuteTime": {
     "end_time": "2020-05-30T22:36:15.655683Z",
     "start_time": "2020-05-30T22:36:12.560096Z"
    },
    "colab": {
     "base_uri": "https://localhost:8080/"
    },
    "id": "VT5IYIZU3QGx",
    "outputId": "e5fde118-78f8-4d14-fc25-e78adb496061"
   },
   "outputs": [
    {
     "name": "stdout",
     "output_type": "stream",
     "text": [
      "Баланс таргета на разбиениях:\n",
      "\n",
      "train: 0.6201018375027674\n",
      "test: 0.6193927881090449\n",
      "\n",
      "Баланс воздействия на разбиениях:\n",
      "\n",
      "train: 0.49973933598520287\n",
      "test: 0.4999666733320003\n"
     ]
    }
   ],
   "source": [
    "# отделяем 30% - пятую часть всего - на тестовую выборку\n",
    "train, test = train_test_split(df_features, test_size=0.3, random_state=random_state)\n",
    "\n",
    "indices_train = train.index.tolist()\n",
    "indices_test = test.index.tolist()\n",
    "\n",
    "X_train = df_features.loc[indices_train, :]\n",
    "y_train = df_train.loc[indices_train, 'target']\n",
    "treat_train = df_train.loc[indices_train, 'treatment_flg']\n",
    "\n",
    "X_test = df_features.loc[indices_test, :]\n",
    "y_test = df_train.loc[indices_test, 'target']\n",
    "treat_test =  df_train.loc[indices_test, 'treatment_flg']\n",
    "\n",
    "targets = [y_train, y_test]\n",
    "treatmnets = [treat_train, treat_test]\n",
    "names = ['train:',  'test:']\n",
    "\n",
    "print('Баланс таргета на разбиениях:\\n')\n",
    "i = 0\n",
    "for target in targets:\n",
    "    pc = target.mean()\n",
    "    print(names[i], pc)\n",
    "    i += 1\n",
    "\n",
    "print('\\nБаланс воздействия на разбиениях:\\n')\n",
    "i = 0\n",
    "for treatmnet in treatmnets:\n",
    "    pc = treatmnet.mean()\n",
    "    print(names[i], pc)\n",
    "    i += 1"
   ]
  },
  {
   "cell_type": "code",
   "execution_count": 13,
   "metadata": {
    "colab": {
     "base_uri": "https://localhost:8080/"
    },
    "id": "_4Y2bT1Nhl44",
    "outputId": "b2d38f53-ab19-461b-a644-8934634a453b"
   },
   "outputs": [
    {
     "data": {
      "text/plain": [
       "(60012, 5)"
      ]
     },
     "execution_count": 13,
     "metadata": {},
     "output_type": "execute_result"
    }
   ],
   "source": [
    "X_test.shape"
   ]
  },
  {
   "cell_type": "code",
   "execution_count": 14,
   "metadata": {
    "id": "H9bnZxb7NLoy"
   },
   "outputs": [],
   "source": [
    "models_results = {\n",
    "    'approach': [],\n",
    "    f'train_uplift@{k*100}%': [],\n",
    "    f'test_uplift@{k*100}%': []\n",
    "}"
   ]
  },
  {
   "cell_type": "markdown",
   "metadata": {
    "id": "CWjvp9vbW9ft"
   },
   "source": [
    "# 1. Подходы с одной моделью\n"
   ]
  },
  {
   "cell_type": "markdown",
   "metadata": {
    "id": "2xqD6sLP3QIq"
   },
   "source": [
    "## 1.1 Трансформация классов"
   ]
  },
  {
   "cell_type": "code",
   "execution_count": 15,
   "metadata": {
    "id": "kOzp0hLGXQZW"
   },
   "outputs": [],
   "source": [
    "from sklift.models import ClassTransformation"
   ]
  },
  {
   "cell_type": "code",
   "execution_count": 16,
   "metadata": {
    "colab": {
     "base_uri": "https://localhost:8080/"
    },
    "id": "ck6M2rZOXUq4",
    "outputId": "14c20744-1ee5-484d-cfda-743856cb942b"
   },
   "outputs": [
    {
     "name": "stdout",
     "output_type": "stream",
     "text": [
      "[0.04871414 0.00261515 0.02251077 0.02459695 0.12213459]\n"
     ]
    }
   ],
   "source": [
    "ct = ClassTransformation(\n",
    "    CatBoostClassifier(iterations=100, max_depth=4, random_state=42)\n",
    "    )\n",
    "\n",
    "ct = ct.fit(X_train, y_train, treat_train,\n",
    "            estimator_fit_params={\n",
    "                'cat_features': cat_features,\n",
    "                'early_stopping_rounds': 10,\n",
    "                'verbose': False #10\n",
    "            }\n",
    ")\n",
    "\n",
    "uplift_ct_train = ct.predict(X_train)\n",
    "uplift_ct = ct.predict(X_test)\n",
    "print(uplift_ct[:5])"
   ]
  },
  {
   "cell_type": "code",
   "execution_count": 17,
   "metadata": {
    "ExecuteTime": {
     "end_time": "2020-05-30T22:36:19.851314Z",
     "start_time": "2020-05-30T22:36:18.757023Z"
    },
    "colab": {
     "base_uri": "https://localhost:8080/",
     "height": 80
    },
    "id": "V6yPXbJs3QIu",
    "outputId": "eb5cc68a-9f1f-4692-915d-a827155a28f0"
   },
   "outputs": [
    {
     "data": {
      "text/html": [
       "<div>\n",
       "<style scoped>\n",
       "    .dataframe tbody tr th:only-of-type {\n",
       "        vertical-align: middle;\n",
       "    }\n",
       "\n",
       "    .dataframe tbody tr th {\n",
       "        vertical-align: top;\n",
       "    }\n",
       "\n",
       "    .dataframe thead th {\n",
       "        text-align: right;\n",
       "    }\n",
       "</style>\n",
       "<table border=\"1\" class=\"dataframe\">\n",
       "  <thead>\n",
       "    <tr style=\"text-align: right;\">\n",
       "      <th></th>\n",
       "      <th>approach</th>\n",
       "      <th>train_uplift@10.0%</th>\n",
       "      <th>test_uplift@10.0%</th>\n",
       "    </tr>\n",
       "  </thead>\n",
       "  <tbody>\n",
       "    <tr>\n",
       "      <th>0</th>\n",
       "      <td>ClassTransformation</td>\n",
       "      <td>0.200909</td>\n",
       "      <td>0.096333</td>\n",
       "    </tr>\n",
       "  </tbody>\n",
       "</table>\n",
       "</div>"
      ],
      "text/plain": [
       "              approach  train_uplift@10.0%  test_uplift@10.0%\n",
       "0  ClassTransformation            0.200909           0.096333"
      ]
     },
     "execution_count": 17,
     "metadata": {},
     "output_type": "execute_result"
    }
   ],
   "source": [
    "ct_score_train = uplift_at_k(y_true=y_train, uplift=uplift_ct_train, treatment=treat_train, \n",
    "                             strategy='by_group', k=k)\n",
    "ct_score = uplift_at_k(y_true=y_test, uplift=uplift_ct, treatment=treat_test, strategy='by_group', k=k)\n",
    "\n",
    "models_results['approach'].append('ClassTransformation')\n",
    "models_results[f'train_uplift@{k*100}%'].append(ct_score_train)\n",
    "models_results[f'test_uplift@{k*100}%'].append(ct_score)\n",
    "\n",
    "pd.DataFrame(models_results)"
   ]
  },
  {
   "cell_type": "markdown",
   "metadata": {
    "id": "ZUBv8tHI3QHu"
   },
   "source": [
    "## 1.2 Одна модель с признаком коммуникации\n",
    "\n",
    "Самое простое и интуитивное решение: модель обучается одновременно на двух группах, при этом бинарный флаг коммуникации выступает в качестве дополнительного признака. Каждый объект из тестовой выборки скорим дважды: с флагом коммуникации равным 1 и равным 0. Вычитая вероятности по каждому наблюдению, получим искомы uplift."
   ]
  },
  {
   "cell_type": "code",
   "execution_count": 18,
   "metadata": {
    "id": "0oU0ND4aOb2P"
   },
   "outputs": [],
   "source": [
    "from sklift.metrics import uplift_at_k\n",
    "from sklift.viz import plot_uplift_preds\n",
    "from sklift.models import SoloModel\n",
    "from catboost import CatBoostClassifier"
   ]
  },
  {
   "cell_type": "code",
   "execution_count": 19,
   "metadata": {
    "colab": {
     "base_uri": "https://localhost:8080/"
    },
    "id": "g4yy5RaYOeTg",
    "outputId": "bcfcd671-b5e3-4e9d-cd21-b02f5e141789"
   },
   "outputs": [
    {
     "name": "stdout",
     "output_type": "stream",
     "text": [
      "[0.05174872 0.02409574 0.01861351 0.02217926 0.0247638 ]\n"
     ]
    }
   ],
   "source": [
    "sm = SoloModel(\n",
    "    CatBoostClassifier(iterations=100, max_depth=4, random_state=42)\n",
    "    )\n",
    "\n",
    "# Обучаем модель\n",
    "sm = sm.fit(X_train, y_train, treat_train,\n",
    "            estimator_fit_params={\n",
    "                'cat_features': cat_features,\n",
    "                'early_stopping_rounds': 10,\n",
    "                'verbose': False #10\n",
    "            }\n",
    ")\n",
    "\n",
    "uplift_sm_train = sm.predict(X_train)\n",
    "uplift_sm = sm.predict(X_test)\n",
    "print(uplift_sm[:5])"
   ]
  },
  {
   "cell_type": "code",
   "execution_count": 20,
   "metadata": {
    "colab": {
     "base_uri": "https://localhost:8080/",
     "height": 111
    },
    "id": "jjMXT6neWRsc",
    "outputId": "673ff768-ee3a-4865-fee8-8beeaede2485"
   },
   "outputs": [
    {
     "data": {
      "text/html": [
       "<div>\n",
       "<style scoped>\n",
       "    .dataframe tbody tr th:only-of-type {\n",
       "        vertical-align: middle;\n",
       "    }\n",
       "\n",
       "    .dataframe tbody tr th {\n",
       "        vertical-align: top;\n",
       "    }\n",
       "\n",
       "    .dataframe thead th {\n",
       "        text-align: right;\n",
       "    }\n",
       "</style>\n",
       "<table border=\"1\" class=\"dataframe\">\n",
       "  <thead>\n",
       "    <tr style=\"text-align: right;\">\n",
       "      <th></th>\n",
       "      <th>approach</th>\n",
       "      <th>train_uplift@10.0%</th>\n",
       "      <th>test_uplift@10.0%</th>\n",
       "    </tr>\n",
       "  </thead>\n",
       "  <tbody>\n",
       "    <tr>\n",
       "      <th>0</th>\n",
       "      <td>ClassTransformation</td>\n",
       "      <td>0.200909</td>\n",
       "      <td>0.096333</td>\n",
       "    </tr>\n",
       "    <tr>\n",
       "      <th>1</th>\n",
       "      <td>SoloModel</td>\n",
       "      <td>0.053046</td>\n",
       "      <td>0.053667</td>\n",
       "    </tr>\n",
       "  </tbody>\n",
       "</table>\n",
       "</div>"
      ],
      "text/plain": [
       "              approach  train_uplift@10.0%  test_uplift@10.0%\n",
       "0  ClassTransformation            0.200909           0.096333\n",
       "1            SoloModel            0.053046           0.053667"
      ]
     },
     "execution_count": 20,
     "metadata": {},
     "output_type": "execute_result"
    }
   ],
   "source": [
    "sm_score_train = uplift_at_k(y_true=y_train, uplift=uplift_sm_train, treatment=treat_train, strategy='by_group', k=k)\n",
    "sm_score = uplift_at_k(y_true=y_test, uplift=uplift_sm, treatment=treat_test, strategy='by_group', k=k)\n",
    "\n",
    "models_results['approach'].append('SoloModel')\n",
    "models_results[f'train_uplift@{k*100}%'].append(sm_score_train)\n",
    "models_results[f'test_uplift@{k*100}%'].append(sm_score)\n",
    "\n",
    "pd.DataFrame(models_results)"
   ]
  },
  {
   "cell_type": "code",
   "execution_count": 21,
   "metadata": {
    "ExecuteTime": {
     "end_time": "2020-05-30T22:36:18.730254Z",
     "start_time": "2020-05-30T22:36:16.771531Z"
    },
    "colab": {
     "base_uri": "https://localhost:8080/",
     "height": 504
    },
    "id": "Pqquz4nU3QHx",
    "outputId": "a8652a96-9b25-4c88-bddf-d29c1bd79850"
   },
   "outputs": [
    {
     "data": {
      "image/png": "[encoded data removed]",
      "text/plain": [
       "<Figure size 1440x504 with 3 Axes>"
      ]
     },
     "metadata": {
      "needs_background": "light"
     },
     "output_type": "display_data"
    }
   ],
   "source": [
    "# Получим условные вероятности выполнения целевого действия при взаимодействии для каждого объекта\n",
    "sm_trmnt_preds = sm.trmnt_preds_\n",
    "# И условные вероятности выполнения целевого действия без взаимодействия для каждого объекта\n",
    "sm_ctrl_preds = sm.ctrl_preds_\n",
    "\n",
    "# Отрисуем распределения вероятностей и их разность (uplift)\n",
    "plot_uplift_preds(trmnt_preds=sm_trmnt_preds, ctrl_preds=sm_ctrl_preds);"
   ]
  },
  {
   "cell_type": "markdown",
   "metadata": {
    "id": "sAACdNv13QI_"
   },
   "source": [
    "## 2. Подходы с двумя моделями\n",
    "\n",
    "### 2.1 Две независимые модели"
   ]
  },
  {
   "cell_type": "code",
   "execution_count": 22,
   "metadata": {
    "id": "6ExWLhxrYeGh"
   },
   "outputs": [],
   "source": [
    "from sklift.models import TwoModels"
   ]
  },
  {
   "cell_type": "code",
   "execution_count": 23,
   "metadata": {
    "ExecuteTime": {
     "end_time": "2020-05-30T22:36:21.644377Z",
     "start_time": "2020-05-30T22:36:19.854107Z"
    },
    "colab": {
     "base_uri": "https://localhost:8080/"
    },
    "id": "S9mOrhPg3QJC",
    "outputId": "3550bc5f-9d5b-4ba2-c613-2e77b26c09d3"
   },
   "outputs": [
    {
     "name": "stdout",
     "output_type": "stream",
     "text": [
      "[ 0.07158929  0.03112211 -0.02752348  0.04444134  0.13468894]\n"
     ]
    }
   ],
   "source": [
    "tm = TwoModels(\n",
    "    estimator_trmnt = CatBoostClassifier(iterations=100, max_depth=4, random_state=42),\n",
    "    estimator_ctrl = CatBoostClassifier(iterations=100, max_depth=4, random_state=42),\n",
    "    method='vanilla'\n",
    ")\n",
    "\n",
    "tm = tm.fit(\n",
    "    X_train, y_train, treat_train,\n",
    "    estimator_trmnt_fit_params={\n",
    "                'cat_features': cat_features,\n",
    "                'early_stopping_rounds': 10,\n",
    "                'verbose': False #10\n",
    "            },\n",
    "    estimator_ctrl_fit_params={\n",
    "                'cat_features': cat_features,\n",
    "                'early_stopping_rounds': 10,\n",
    "                'verbose': False #10\n",
    "            }\n",
    ")\n",
    "\n",
    "uplift_tm_train = tm.predict(X_train)\n",
    "uplift_tm = tm.predict(X_test)\n",
    "print(uplift_tm[:5])"
   ]
  },
  {
   "cell_type": "code",
   "execution_count": 24,
   "metadata": {
    "colab": {
     "base_uri": "https://localhost:8080/",
     "height": 142
    },
    "id": "6KFAIGVAZHFs",
    "outputId": "36be9b6f-4398-4b04-f96b-7a64fa7a70cc"
   },
   "outputs": [
    {
     "data": {
      "text/html": [
       "<div>\n",
       "<style scoped>\n",
       "    .dataframe tbody tr th:only-of-type {\n",
       "        vertical-align: middle;\n",
       "    }\n",
       "\n",
       "    .dataframe tbody tr th {\n",
       "        vertical-align: top;\n",
       "    }\n",
       "\n",
       "    .dataframe thead th {\n",
       "        text-align: right;\n",
       "    }\n",
       "</style>\n",
       "<table border=\"1\" class=\"dataframe\">\n",
       "  <thead>\n",
       "    <tr style=\"text-align: right;\">\n",
       "      <th></th>\n",
       "      <th>approach</th>\n",
       "      <th>train_uplift@10.0%</th>\n",
       "      <th>test_uplift@10.0%</th>\n",
       "    </tr>\n",
       "  </thead>\n",
       "  <tbody>\n",
       "    <tr>\n",
       "      <th>0</th>\n",
       "      <td>ClassTransformation</td>\n",
       "      <td>0.200909</td>\n",
       "      <td>0.096333</td>\n",
       "    </tr>\n",
       "    <tr>\n",
       "      <th>1</th>\n",
       "      <td>SoloModel</td>\n",
       "      <td>0.053046</td>\n",
       "      <td>0.053667</td>\n",
       "    </tr>\n",
       "    <tr>\n",
       "      <th>2</th>\n",
       "      <td>TwoModels</td>\n",
       "      <td>0.186148</td>\n",
       "      <td>0.065667</td>\n",
       "    </tr>\n",
       "  </tbody>\n",
       "</table>\n",
       "</div>"
      ],
      "text/plain": [
       "              approach  train_uplift@10.0%  test_uplift@10.0%\n",
       "0  ClassTransformation            0.200909           0.096333\n",
       "1            SoloModel            0.053046           0.053667\n",
       "2            TwoModels            0.186148           0.065667"
      ]
     },
     "execution_count": 24,
     "metadata": {},
     "output_type": "execute_result"
    }
   ],
   "source": [
    "tm_score_train = uplift_at_k(y_true=y_train, uplift=uplift_tm_train, treatment=treat_train, strategy='by_group', k=k)\n",
    "tm_score = uplift_at_k(y_true=y_test, uplift=uplift_tm, treatment=treat_test, strategy='by_group', k=k)\n",
    "\n",
    "models_results['approach'].append('TwoModels')\n",
    "models_results[f'train_uplift@{k*100}%'].append(tm_score_train)\n",
    "models_results[f'test_uplift@{k*100}%'].append(tm_score)\n",
    "\n",
    "pd.DataFrame(models_results)"
   ]
  },
  {
   "cell_type": "code",
   "execution_count": 25,
   "metadata": {
    "colab": {
     "base_uri": "https://localhost:8080/",
     "height": 504
    },
    "id": "1UncElP6Y2ja",
    "outputId": "cf6d6c01-7f35-46b7-ea8b-dfbf0fbe2949"
   },
   "outputs": [
    {
     "data": {
      "image/png": "[encoded data removed]",
      "text/plain": [
       "<Figure size 1440x504 with 3 Axes>"
      ]
     },
     "metadata": {
      "needs_background": "light"
     },
     "output_type": "display_data"
    }
   ],
   "source": [
    "# Получим условные вероятности выполнения целевого действия при взаимодействии для каждого объекта\n",
    "tm_trmnt_preds = tm.trmnt_preds_\n",
    "# И условные вероятности выполнения целевого действия без взаимодействия для каждого объекта\n",
    "tm_ctrl_preds = tm.ctrl_preds_\n",
    "\n",
    "# Отрисуем распределения вероятностей и их разность (uplift)\n",
    "plot_uplift_preds(trmnt_preds=tm_trmnt_preds, ctrl_preds=tm_ctrl_preds);"
   ]
  },
  {
   "cell_type": "markdown",
   "metadata": {
    "id": "BVdXAMsO3QLM"
   },
   "source": [
    "### 2.2 Две зависимые модели"
   ]
  },
  {
   "cell_type": "code",
   "execution_count": 26,
   "metadata": {
    "ExecuteTime": {
     "end_time": "2020-05-30T22:36:24.308273Z",
     "start_time": "2020-05-30T22:36:21.647973Z"
    },
    "colab": {
     "base_uri": "https://localhost:8080/"
    },
    "id": "C654kkas3QLR",
    "outputId": "5ea874c2-876c-4806-fb8f-ac25b82e5518"
   },
   "outputs": [
    {
     "name": "stdout",
     "output_type": "stream",
     "text": [
      "[ 0.06003539  0.04004962 -0.00483327  0.02083803  0.1312127 ]\n"
     ]
    }
   ],
   "source": [
    "tm_ctrl = TwoModels(\n",
    "    estimator_trmnt=CatBoostClassifier(iterations=100, max_depth=4, random_state=42),\n",
    "    estimator_ctrl=CatBoostClassifier(iterations=100, max_depth=4, random_state=42),\n",
    "    method='ddr_control'\n",
    ")\n",
    "\n",
    "tm_ctrl = tm_ctrl.fit(\n",
    "    X_train, y_train, treat_train,\n",
    "    estimator_trmnt_fit_params={\n",
    "                'cat_features': cat_features,\n",
    "                'early_stopping_rounds': 10,\n",
    "                'verbose': False #10\n",
    "            },\n",
    "    estimator_ctrl_fit_params={\n",
    "                'cat_features': cat_features,\n",
    "                'early_stopping_rounds': 10,\n",
    "                'verbose': False #10\n",
    "            }\n",
    ")\n",
    "\n",
    "uplift_tm_ctrl_train = tm_ctrl.predict(X_train)\n",
    "uplift_tm_ctrl = tm_ctrl.predict(X_test)\n",
    "print(uplift_tm_ctrl[:5])"
   ]
  },
  {
   "cell_type": "code",
   "execution_count": 27,
   "metadata": {
    "colab": {
     "base_uri": "https://localhost:8080/",
     "height": 173
    },
    "id": "SAOXtjeUfCcE",
    "outputId": "e9a5973a-ef73-498b-a4be-fceaab9b489d"
   },
   "outputs": [
    {
     "data": {
      "text/html": [
       "<div>\n",
       "<style scoped>\n",
       "    .dataframe tbody tr th:only-of-type {\n",
       "        vertical-align: middle;\n",
       "    }\n",
       "\n",
       "    .dataframe tbody tr th {\n",
       "        vertical-align: top;\n",
       "    }\n",
       "\n",
       "    .dataframe thead th {\n",
       "        text-align: right;\n",
       "    }\n",
       "</style>\n",
       "<table border=\"1\" class=\"dataframe\">\n",
       "  <thead>\n",
       "    <tr style=\"text-align: right;\">\n",
       "      <th></th>\n",
       "      <th>approach</th>\n",
       "      <th>train_uplift@10.0%</th>\n",
       "      <th>test_uplift@10.0%</th>\n",
       "    </tr>\n",
       "  </thead>\n",
       "  <tbody>\n",
       "    <tr>\n",
       "      <th>0</th>\n",
       "      <td>ClassTransformation</td>\n",
       "      <td>0.200909</td>\n",
       "      <td>0.096333</td>\n",
       "    </tr>\n",
       "    <tr>\n",
       "      <th>1</th>\n",
       "      <td>SoloModel</td>\n",
       "      <td>0.053046</td>\n",
       "      <td>0.053667</td>\n",
       "    </tr>\n",
       "    <tr>\n",
       "      <th>2</th>\n",
       "      <td>TwoModels</td>\n",
       "      <td>0.186148</td>\n",
       "      <td>0.065667</td>\n",
       "    </tr>\n",
       "    <tr>\n",
       "      <th>3</th>\n",
       "      <td>TwoModels_ddr_control</td>\n",
       "      <td>0.194751</td>\n",
       "      <td>0.085000</td>\n",
       "    </tr>\n",
       "  </tbody>\n",
       "</table>\n",
       "</div>"
      ],
      "text/plain": [
       "                approach  train_uplift@10.0%  test_uplift@10.0%\n",
       "0    ClassTransformation            0.200909           0.096333\n",
       "1              SoloModel            0.053046           0.053667\n",
       "2              TwoModels            0.186148           0.065667\n",
       "3  TwoModels_ddr_control            0.194751           0.085000"
      ]
     },
     "execution_count": 27,
     "metadata": {},
     "output_type": "execute_result"
    }
   ],
   "source": [
    "tm_ctrl_score_train = uplift_at_k(y_true=y_train, uplift=uplift_tm_ctrl_train, treatment=treat_train, strategy='by_group', k=k)\n",
    "tm_ctrl_score = uplift_at_k(y_true=y_test, uplift=uplift_tm_ctrl, treatment=treat_test, strategy='by_group', k=k)\n",
    "\n",
    "models_results['approach'].append('TwoModels_ddr_control')\n",
    "models_results[f'train_uplift@{k*100}%'].append(tm_ctrl_score_train)\n",
    "models_results[f'test_uplift@{k*100}%'].append(tm_ctrl_score)\n",
    "\n",
    "\n",
    "pd.DataFrame(models_results)"
   ]
  },
  {
   "cell_type": "code",
   "execution_count": 28,
   "metadata": {
    "id": "TuhWTP8gfj5x"
   },
   "outputs": [],
   "source": [
    "# plot_uplift_preds(trmnt_preds=tm_ctrl.trmnt_preds_, ctrl_preds=tm_ctrl.ctrl_preds_);"
   ]
  },
  {
   "cell_type": "markdown",
   "metadata": {
    "id": "Kcy2kN3T3QLg"
   },
   "source": [
    "Аналогичным образом можно сначала обучить классификатор $P^T$, а затем использовать его предсказания в качестве признака для классификатора $P^C$."
   ]
  },
  {
   "cell_type": "code",
   "execution_count": 29,
   "metadata": {
    "ExecuteTime": {
     "end_time": "2020-05-30T22:36:26.302525Z",
     "start_time": "2020-05-30T22:36:24.311349Z"
    },
    "colab": {
     "base_uri": "https://localhost:8080/"
    },
    "id": "z9Db6zMB3QLn",
    "outputId": "d2e34ddc-2c12-4bdd-ff8e-689176770531"
   },
   "outputs": [
    {
     "name": "stdout",
     "output_type": "stream",
     "text": [
      "[0.06856123 0.00375784 0.01840938 0.01825481 0.11574537]\n"
     ]
    }
   ],
   "source": [
    "tm_trmnt = TwoModels(\n",
    "    estimator_trmnt=CatBoostClassifier(iterations=100, max_depth=4, random_state=42),\n",
    "    estimator_ctrl=CatBoostClassifier(iterations=100, max_depth=4, random_state=42),\n",
    "    method='ddr_treatment'\n",
    ")\n",
    "\n",
    "tm_trmnt = tm_trmnt.fit(\n",
    "    X_train, y_train, treat_train,\n",
    "    estimator_trmnt_fit_params={\n",
    "                'cat_features': cat_features,\n",
    "                'early_stopping_rounds': 10,\n",
    "                'verbose': False #10\n",
    "            },\n",
    "    estimator_ctrl_fit_params={\n",
    "                'cat_features': cat_features,\n",
    "                'early_stopping_rounds': 10,\n",
    "                'verbose': False #10\n",
    "            }\n",
    ")\n",
    "\n",
    "uplift_tm_trmnt_train = tm_trmnt.predict(X_train)\n",
    "uplift_tm_trmnt = tm_trmnt.predict(X_test)\n",
    "print(uplift_tm_trmnt[:5])"
   ]
  },
  {
   "cell_type": "code",
   "execution_count": 30,
   "metadata": {
    "colab": {
     "base_uri": "https://localhost:8080/",
     "height": 204
    },
    "id": "6-K3tFnDhSjk",
    "outputId": "cc6bfcd4-e87e-4f70-f4a2-ec82ebfb56e2"
   },
   "outputs": [
    {
     "data": {
      "text/html": [
       "<div>\n",
       "<style scoped>\n",
       "    .dataframe tbody tr th:only-of-type {\n",
       "        vertical-align: middle;\n",
       "    }\n",
       "\n",
       "    .dataframe tbody tr th {\n",
       "        vertical-align: top;\n",
       "    }\n",
       "\n",
       "    .dataframe thead th {\n",
       "        text-align: right;\n",
       "    }\n",
       "</style>\n",
       "<table border=\"1\" class=\"dataframe\">\n",
       "  <thead>\n",
       "    <tr style=\"text-align: right;\">\n",
       "      <th></th>\n",
       "      <th>approach</th>\n",
       "      <th>train_uplift@10.0%</th>\n",
       "      <th>test_uplift@10.0%</th>\n",
       "    </tr>\n",
       "  </thead>\n",
       "  <tbody>\n",
       "    <tr>\n",
       "      <th>0</th>\n",
       "      <td>ClassTransformation</td>\n",
       "      <td>0.200909</td>\n",
       "      <td>0.096333</td>\n",
       "    </tr>\n",
       "    <tr>\n",
       "      <th>1</th>\n",
       "      <td>SoloModel</td>\n",
       "      <td>0.053046</td>\n",
       "      <td>0.053667</td>\n",
       "    </tr>\n",
       "    <tr>\n",
       "      <th>2</th>\n",
       "      <td>TwoModels</td>\n",
       "      <td>0.186148</td>\n",
       "      <td>0.065667</td>\n",
       "    </tr>\n",
       "    <tr>\n",
       "      <th>3</th>\n",
       "      <td>TwoModels_ddr_control</td>\n",
       "      <td>0.194751</td>\n",
       "      <td>0.085000</td>\n",
       "    </tr>\n",
       "    <tr>\n",
       "      <th>4</th>\n",
       "      <td>TwoModels_ddr_treatment</td>\n",
       "      <td>0.153695</td>\n",
       "      <td>0.046333</td>\n",
       "    </tr>\n",
       "  </tbody>\n",
       "</table>\n",
       "</div>"
      ],
      "text/plain": [
       "                  approach  train_uplift@10.0%  test_uplift@10.0%\n",
       "0      ClassTransformation            0.200909           0.096333\n",
       "1                SoloModel            0.053046           0.053667\n",
       "2                TwoModels            0.186148           0.065667\n",
       "3    TwoModels_ddr_control            0.194751           0.085000\n",
       "4  TwoModels_ddr_treatment            0.153695           0.046333"
      ]
     },
     "execution_count": 30,
     "metadata": {},
     "output_type": "execute_result"
    }
   ],
   "source": [
    "tm_trmnt_score_train = uplift_at_k(y_true=y_train, uplift=uplift_tm_trmnt_train, treatment=treat_train, strategy='by_group', k=k)\n",
    "tm_trmnt_score = uplift_at_k(y_true=y_test, uplift=uplift_tm_trmnt, treatment=treat_test, strategy='by_group', k=k)\n",
    "\n",
    "models_results['approach'].append('TwoModels_ddr_treatment')\n",
    "models_results[f'train_uplift@{k*100}%'].append(tm_trmnt_score_train)\n",
    "models_results[f'test_uplift@{k*100}%'].append(tm_trmnt_score)\n",
    "\n",
    "pd.DataFrame(models_results)"
   ]
  },
  {
   "cell_type": "code",
   "execution_count": 31,
   "metadata": {
    "id": "xkRgaPeTkTdU"
   },
   "outputs": [],
   "source": [
    "# plot_uplift_preds(trmnt_preds=tm_trmnt.trmnt_preds_, ctrl_preds=tm_trmnt.ctrl_preds_);"
   ]
  },
  {
   "cell_type": "markdown",
   "metadata": {
    "id": "ohv6eLRJ3QMh"
   },
   "source": [
    "## Метрики\n"
   ]
  },
  {
   "cell_type": "code",
   "execution_count": 32,
   "metadata": {
    "ExecuteTime": {
     "end_time": "2020-05-30T22:36:26.323056Z",
     "start_time": "2020-05-30T22:36:26.305696Z"
    },
    "colab": {
     "base_uri": "https://localhost:8080/",
     "height": 204
    },
    "id": "X_u-k5i93QMp",
    "outputId": "862db76b-c454-4a03-d4b0-2987d5ebfe97"
   },
   "outputs": [
    {
     "data": {
      "text/html": [
       "<div>\n",
       "<style scoped>\n",
       "    .dataframe tbody tr th:only-of-type {\n",
       "        vertical-align: middle;\n",
       "    }\n",
       "\n",
       "    .dataframe tbody tr th {\n",
       "        vertical-align: top;\n",
       "    }\n",
       "\n",
       "    .dataframe thead th {\n",
       "        text-align: right;\n",
       "    }\n",
       "</style>\n",
       "<table border=\"1\" class=\"dataframe\">\n",
       "  <thead>\n",
       "    <tr style=\"text-align: right;\">\n",
       "      <th></th>\n",
       "      <th>approach</th>\n",
       "      <th>train_uplift@10.0%</th>\n",
       "      <th>test_uplift@10.0%</th>\n",
       "    </tr>\n",
       "  </thead>\n",
       "  <tbody>\n",
       "    <tr>\n",
       "      <th>0</th>\n",
       "      <td>ClassTransformation</td>\n",
       "      <td>0.200909</td>\n",
       "      <td>0.096333</td>\n",
       "    </tr>\n",
       "    <tr>\n",
       "      <th>3</th>\n",
       "      <td>TwoModels_ddr_control</td>\n",
       "      <td>0.194751</td>\n",
       "      <td>0.085000</td>\n",
       "    </tr>\n",
       "    <tr>\n",
       "      <th>2</th>\n",
       "      <td>TwoModels</td>\n",
       "      <td>0.186148</td>\n",
       "      <td>0.065667</td>\n",
       "    </tr>\n",
       "    <tr>\n",
       "      <th>1</th>\n",
       "      <td>SoloModel</td>\n",
       "      <td>0.053046</td>\n",
       "      <td>0.053667</td>\n",
       "    </tr>\n",
       "    <tr>\n",
       "      <th>4</th>\n",
       "      <td>TwoModels_ddr_treatment</td>\n",
       "      <td>0.153695</td>\n",
       "      <td>0.046333</td>\n",
       "    </tr>\n",
       "  </tbody>\n",
       "</table>\n",
       "</div>"
      ],
      "text/plain": [
       "                  approach  train_uplift@10.0%  test_uplift@10.0%\n",
       "0      ClassTransformation            0.200909           0.096333\n",
       "3    TwoModels_ddr_control            0.194751           0.085000\n",
       "2                TwoModels            0.186148           0.065667\n",
       "1                SoloModel            0.053046           0.053667\n",
       "4  TwoModels_ddr_treatment            0.153695           0.046333"
      ]
     },
     "execution_count": 32,
     "metadata": {},
     "output_type": "execute_result"
    }
   ],
   "source": [
    "pd.DataFrame(data=models_results).sort_values(f'test_uplift@{k*100}%', ascending=False)"
   ]
  },
  {
   "cell_type": "code",
   "execution_count": 33,
   "metadata": {
    "colab": {
     "base_uri": "https://localhost:8080/"
    },
    "id": "F5iIZWW3Cyrq",
    "outputId": "824e2a75-119a-444d-cc86-14516272631d"
   },
   "outputs": [
    {
     "name": "stdout",
     "output_type": "stream",
     "text": [
      "y_test структура: (60012,), тип: int64\n",
      "uplift_ct структура: (60012,), тип: float64\n",
      "treat_test структура: (60012,), тип: int64\n"
     ]
    }
   ],
   "source": [
    "# Проверка структуры данных. Необходимо, чтобы запустился расчет метрик на особых версиях библиотек\n",
    "print(f'y_test структура: {y_test.shape}, тип: {y_test.dtype}')\n",
    "print(f'uplift_ct структура: {uplift_ct.shape}, тип: {uplift_ct.dtype}')\n",
    "print(f'treat_test структура: {treat_test.shape}, тип: {treat_test.dtype}')\n",
    "\n",
    "# Если обнаружены вложенные структуры, преобразовать их в одномерные массивы\n",
    "if y_test.ndim > 1:\n",
    "    y_test = y_test.flatten()\n",
    "\n",
    "if uplift_ct.ndim > 1:\n",
    "    uplift_ct = uplift_ct.flatten()\n",
    "\n",
    "if treat_test.ndim > 1:\n",
    "    treat_test = treat_test.flatten()"
   ]
  },
  {
   "cell_type": "code",
   "execution_count": 34,
   "metadata": {
    "colab": {
     "base_uri": "https://localhost:8080/",
     "height": 475
    },
    "id": "OMg71r_kEtg9",
    "outputId": "fede01a8-3331-4f2a-80de-c63ca076828b"
   },
   "outputs": [
    {
     "name": "stderr",
     "output_type": "stream",
     "text": [
      "/Users/pozdneeva/opt/anaconda3/lib/python3.8/site-packages/numpy/core/fromnumeric.py:3162: VisibleDeprecationWarning: Creating an ndarray from ragged nested sequences (which is a list-or-tuple of lists-or-tuples-or ndarrays with different lengths or shapes) is deprecated. If you meant to do this, you must specify 'dtype=object' when creating the ndarray.\n",
      "  return asarray(a).ndim\n"
     ]
    },
    {
     "data": {
      "text/html": [
       "<div>\n",
       "<style scoped>\n",
       "    .dataframe tbody tr th:only-of-type {\n",
       "        vertical-align: middle;\n",
       "    }\n",
       "\n",
       "    .dataframe tbody tr th {\n",
       "        vertical-align: top;\n",
       "    }\n",
       "\n",
       "    .dataframe thead th {\n",
       "        text-align: right;\n",
       "    }\n",
       "</style>\n",
       "<table border=\"1\" class=\"dataframe\">\n",
       "  <thead>\n",
       "    <tr style=\"text-align: right;\">\n",
       "      <th></th>\n",
       "      <th>n_treatment</th>\n",
       "      <th>n_control</th>\n",
       "      <th>response_rate_treatment</th>\n",
       "      <th>response_rate_control</th>\n",
       "      <th>uplift</th>\n",
       "      <th>std_treatment</th>\n",
       "      <th>std_control</th>\n",
       "      <th>std_uplift</th>\n",
       "    </tr>\n",
       "    <tr>\n",
       "      <th>percentile</th>\n",
       "      <th></th>\n",
       "      <th></th>\n",
       "      <th></th>\n",
       "      <th></th>\n",
       "      <th></th>\n",
       "      <th></th>\n",
       "      <th></th>\n",
       "      <th></th>\n",
       "    </tr>\n",
       "  </thead>\n",
       "  <tbody>\n",
       "    <tr>\n",
       "      <th>0-10</th>\n",
       "      <td>3346</td>\n",
       "      <td>2656</td>\n",
       "      <td>0.733413</td>\n",
       "      <td>0.640437</td>\n",
       "      <td>0.092976</td>\n",
       "      <td>0.007644</td>\n",
       "      <td>0.009311</td>\n",
       "      <td>0.012047</td>\n",
       "    </tr>\n",
       "    <tr>\n",
       "      <th>10-20</th>\n",
       "      <td>3098</td>\n",
       "      <td>2904</td>\n",
       "      <td>0.665913</td>\n",
       "      <td>0.634642</td>\n",
       "      <td>0.031272</td>\n",
       "      <td>0.008474</td>\n",
       "      <td>0.008936</td>\n",
       "      <td>0.012315</td>\n",
       "    </tr>\n",
       "    <tr>\n",
       "      <th>20-30</th>\n",
       "      <td>2978</td>\n",
       "      <td>3023</td>\n",
       "      <td>0.669577</td>\n",
       "      <td>0.604697</td>\n",
       "      <td>0.064880</td>\n",
       "      <td>0.008619</td>\n",
       "      <td>0.008892</td>\n",
       "      <td>0.012384</td>\n",
       "    </tr>\n",
       "    <tr>\n",
       "      <th>30-40</th>\n",
       "      <td>2971</td>\n",
       "      <td>3030</td>\n",
       "      <td>0.648603</td>\n",
       "      <td>0.611551</td>\n",
       "      <td>0.037052</td>\n",
       "      <td>0.008759</td>\n",
       "      <td>0.008854</td>\n",
       "      <td>0.012455</td>\n",
       "    </tr>\n",
       "    <tr>\n",
       "      <th>40-50</th>\n",
       "      <td>2932</td>\n",
       "      <td>3069</td>\n",
       "      <td>0.662005</td>\n",
       "      <td>0.620723</td>\n",
       "      <td>0.041282</td>\n",
       "      <td>0.008736</td>\n",
       "      <td>0.008758</td>\n",
       "      <td>0.012370</td>\n",
       "    </tr>\n",
       "    <tr>\n",
       "      <th>50-60</th>\n",
       "      <td>2967</td>\n",
       "      <td>3034</td>\n",
       "      <td>0.626559</td>\n",
       "      <td>0.607119</td>\n",
       "      <td>0.019439</td>\n",
       "      <td>0.008880</td>\n",
       "      <td>0.008867</td>\n",
       "      <td>0.012549</td>\n",
       "    </tr>\n",
       "    <tr>\n",
       "      <th>60-70</th>\n",
       "      <td>2958</td>\n",
       "      <td>3043</td>\n",
       "      <td>0.614943</td>\n",
       "      <td>0.585606</td>\n",
       "      <td>0.029336</td>\n",
       "      <td>0.008947</td>\n",
       "      <td>0.008930</td>\n",
       "      <td>0.012641</td>\n",
       "    </tr>\n",
       "    <tr>\n",
       "      <th>70-80</th>\n",
       "      <td>2978</td>\n",
       "      <td>3023</td>\n",
       "      <td>0.609805</td>\n",
       "      <td>0.588488</td>\n",
       "      <td>0.021317</td>\n",
       "      <td>0.008939</td>\n",
       "      <td>0.008950</td>\n",
       "      <td>0.012649</td>\n",
       "    </tr>\n",
       "    <tr>\n",
       "      <th>80-90</th>\n",
       "      <td>2994</td>\n",
       "      <td>3007</td>\n",
       "      <td>0.575818</td>\n",
       "      <td>0.572664</td>\n",
       "      <td>0.003155</td>\n",
       "      <td>0.009032</td>\n",
       "      <td>0.009021</td>\n",
       "      <td>0.012766</td>\n",
       "    </tr>\n",
       "    <tr>\n",
       "      <th>90-100</th>\n",
       "      <td>2782</td>\n",
       "      <td>3219</td>\n",
       "      <td>0.546010</td>\n",
       "      <td>0.559180</td>\n",
       "      <td>-0.013170</td>\n",
       "      <td>0.009439</td>\n",
       "      <td>0.008751</td>\n",
       "      <td>0.012872</td>\n",
       "    </tr>\n",
       "    <tr>\n",
       "      <th>total</th>\n",
       "      <td>30004</td>\n",
       "      <td>30008</td>\n",
       "      <td>0.637115</td>\n",
       "      <td>0.601673</td>\n",
       "      <td>0.035442</td>\n",
       "      <td>0.087470</td>\n",
       "      <td>0.089271</td>\n",
       "      <td>0.125048</td>\n",
       "    </tr>\n",
       "  </tbody>\n",
       "</table>\n",
       "</div>"
      ],
      "text/plain": [
       "            n_treatment  n_control  response_rate_treatment  \\\n",
       "percentile                                                    \n",
       "0-10               3346       2656                 0.733413   \n",
       "10-20              3098       2904                 0.665913   \n",
       "20-30              2978       3023                 0.669577   \n",
       "30-40              2971       3030                 0.648603   \n",
       "40-50              2932       3069                 0.662005   \n",
       "50-60              2967       3034                 0.626559   \n",
       "60-70              2958       3043                 0.614943   \n",
       "70-80              2978       3023                 0.609805   \n",
       "80-90              2994       3007                 0.575818   \n",
       "90-100             2782       3219                 0.546010   \n",
       "total             30004      30008                 0.637115   \n",
       "\n",
       "            response_rate_control    uplift  std_treatment  std_control  \\\n",
       "percentile                                                                \n",
       "0-10                     0.640437  0.092976       0.007644     0.009311   \n",
       "10-20                    0.634642  0.031272       0.008474     0.008936   \n",
       "20-30                    0.604697  0.064880       0.008619     0.008892   \n",
       "30-40                    0.611551  0.037052       0.008759     0.008854   \n",
       "40-50                    0.620723  0.041282       0.008736     0.008758   \n",
       "50-60                    0.607119  0.019439       0.008880     0.008867   \n",
       "60-70                    0.585606  0.029336       0.008947     0.008930   \n",
       "70-80                    0.588488  0.021317       0.008939     0.008950   \n",
       "80-90                    0.572664  0.003155       0.009032     0.009021   \n",
       "90-100                   0.559180 -0.013170       0.009439     0.008751   \n",
       "total                    0.601673  0.035442       0.087470     0.089271   \n",
       "\n",
       "            std_uplift  \n",
       "percentile              \n",
       "0-10          0.012047  \n",
       "10-20         0.012315  \n",
       "20-30         0.012384  \n",
       "30-40         0.012455  \n",
       "40-50         0.012370  \n",
       "50-60         0.012549  \n",
       "60-70         0.012641  \n",
       "70-80         0.012649  \n",
       "80-90         0.012766  \n",
       "90-100        0.012872  \n",
       "total         0.125048  "
      ]
     },
     "execution_count": 34,
     "metadata": {},
     "output_type": "execute_result"
    }
   ],
   "source": [
    "from sklift.metrics import uplift_by_percentile\n",
    "\n",
    "uplift_by_percentile(y_test, uplift_ct, treat_test,\n",
    "                     strategy='overall',\n",
    "                     total=True, std=True, bins=10)"
   ]
  },
  {
   "cell_type": "code",
   "execution_count": 35,
   "metadata": {
    "colab": {
     "base_uri": "https://localhost:8080/"
    },
    "id": "40zWvlZbxulm",
    "outputId": "f423651f-581a-4d3a-eeb8-e13c866a9f31"
   },
   "outputs": [
    {
     "name": "stdout",
     "output_type": "stream",
     "text": [
      "average uplift on test data CT: 0.0338\n",
      "average uplift on test data SM: 0.0343\n"
     ]
    }
   ],
   "source": [
    "from sklift.metrics import weighted_average_uplift\n",
    "\n",
    "uplift_full_data_ct = weighted_average_uplift(y_test, uplift_ct, treat_test, bins=10)\n",
    "uplift_full_data_sm = weighted_average_uplift(y_test, uplift_sm, treat_test, bins=10)\n",
    "print(f\"average uplift on test data CT: {uplift_full_data_ct:.4f}\")\n",
    "print(f\"average uplift on test data SM: {uplift_full_data_sm:.4f}\")"
   ]
  },
  {
   "cell_type": "code",
   "execution_count": 36,
   "metadata": {
    "colab": {
     "base_uri": "https://localhost:8080/",
     "height": 669
    },
    "id": "iwiTltFSz4hq",
    "outputId": "c04d89a4-d3e0-4a6b-ddce-b31d2e2fc394"
   },
   "outputs": [
    {
     "name": "stderr",
     "output_type": "stream",
     "text": [
      "/Users/pozdneeva/opt/anaconda3/lib/python3.8/site-packages/numpy/core/fromnumeric.py:3162: VisibleDeprecationWarning: Creating an ndarray from ragged nested sequences (which is a list-or-tuple of lists-or-tuples-or ndarrays with different lengths or shapes) is deprecated. If you meant to do this, you must specify 'dtype=object' when creating the ndarray.\n",
      "  return asarray(a).ndim\n"
     ]
    },
    {
     "data": {
      "image/png": "[encoded data removed]",
      "text/plain": [
       "<Figure size 576x432 with 1 Axes>"
      ]
     },
     "metadata": {
      "needs_background": "light"
     },
     "output_type": "display_data"
    }
   ],
   "source": [
    "from sklift.viz import plot_uplift_by_percentile\n",
    "\n",
    "# line plot\n",
    "plot_uplift_by_percentile(y_test, uplift_ct, treat_test,\n",
    "                          strategy='overall', kind='line');"
   ]
  },
  {
   "cell_type": "code",
   "execution_count": 37,
   "metadata": {
    "colab": {
     "base_uri": "https://localhost:8080/",
     "height": 615
    },
    "id": "3OvtaF-CE-vJ",
    "outputId": "3d45fc2e-da50-4173-b01e-2b889be50900"
   },
   "outputs": [
    {
     "data": {
      "image/png": "[encoded data removed]",
      "text/plain": [
       "<Figure size 576x432 with 2 Axes>"
      ]
     },
     "metadata": {
      "needs_background": "light"
     },
     "output_type": "display_data"
    }
   ],
   "source": [
    "# bar plot\n",
    "plot_uplift_by_percentile(y_test, uplift_ct, treat_test, strategy='overall', kind='bar');"
   ]
  },
  {
   "cell_type": "code",
   "execution_count": 38,
   "metadata": {
    "colab": {
     "base_uri": "https://localhost:8080/",
     "height": 449
    },
    "id": "tEl22awA4K0I",
    "outputId": "52dbf00f-4c29-4998-b3ce-102e3065dc1f"
   },
   "outputs": [
    {
     "data": {
      "image/png": "[encoded data removed]",
      "text/plain": [
       "<Figure size 432x288 with 1 Axes>"
      ]
     },
     "metadata": {
      "needs_background": "light"
     },
     "output_type": "display_data"
    }
   ],
   "source": [
    "from sklift.viz import plot_uplift_curve\n",
    "\n",
    "# with ideal curve\n",
    "# perfect=True\n",
    "plot_uplift_curve(y_test, uplift_ct, treat_test, perfect=False);"
   ]
  },
  {
   "cell_type": "code",
   "execution_count": 39,
   "metadata": {
    "colab": {
     "base_uri": "https://localhost:8080/",
     "height": 449
    },
    "id": "ibgPdwtJ0kHU",
    "outputId": "9d2eee89-7f03-48a3-f53c-75c0aeacabad"
   },
   "outputs": [
    {
     "data": {
      "image/png": "[encoded data removed]",
      "text/plain": [
       "<Figure size 432x288 with 1 Axes>"
      ]
     },
     "metadata": {
      "needs_background": "light"
     },
     "output_type": "display_data"
    }
   ],
   "source": [
    "from sklift.viz import plot_qini_curve\n",
    "\n",
    "# with ideal Qini curve (red line)\n",
    "# perfect=True\n",
    "plot_qini_curve(y_test, uplift_ct, treat_test, perfect=False);"
   ]
  },
  {
   "cell_type": "code",
   "execution_count": null,
   "metadata": {
    "id": "y0lHGVCoFScl"
   },
   "outputs": [],
   "source": []
  }
 ],
 "metadata": {
  "colab": {
   "provenance": []
  },
  "kernelspec": {
   "display_name": "Python 3",
   "language": "python",
   "name": "python3"
  },
  "language_info": {
   "codemirror_mode": {
    "name": "ipython",
    "version": 3
   },
   "file_extension": ".py",
   "mimetype": "text/x-python",
   "name": "python",
   "nbconvert_exporter": "python",
   "pygments_lexer": "ipython3",
   "version": "3.8.8"
  },
  "toc": {
   "base_numbering": 1,
   "nav_menu": {},
   "number_sections": true,
   "sideBar": true,
   "skip_h1_title": false,
   "title_cell": "Table of Contents",
   "title_sidebar": "Contents",
   "toc_cell": false,
   "toc_position": {},
   "toc_section_display": true,
   "toc_window_display": false
  }
 },
 "nbformat": 4,
 "nbformat_minor": 1
}
